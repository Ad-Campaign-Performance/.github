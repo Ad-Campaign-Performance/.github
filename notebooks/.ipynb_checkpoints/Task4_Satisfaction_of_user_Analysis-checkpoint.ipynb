{
 "cells": [
  {
   "cell_type": "markdown",
   "id": "fd57e477",
   "metadata": {
    "colab": {
     "base_uri": "https://localhost:8080/"
    },
    "executionInfo": {
     "elapsed": 100356,
     "status": "ok",
     "timestamp": 1626169531595,
     "user": {
      "displayName": "Kevin Karobia",
      "photoUrl": "",
      "userId": "11620910033834049837"
     },
     "user_tz": -180
    },
    "id": "k3I4pJ2t4Nhr",
    "outputId": "a2e04c13-2646-438a-c54b-2d4fedeb1f9c"
   },
   "source": [
    "## Task 4 - Satisfaction Analysis"
   ]
  },
  {
   "cell_type": "markdown",
   "id": "ef97d097",
   "metadata": {},
   "source": [
    "Assuming that the satisfaction of a user is dependent on user engagement and experience, you’re expected in this section to analyze customer satisfaction in depth. The following tasks will guide you: "
   ]
  },
  {
   "cell_type": "code",
   "execution_count": 1,
   "id": "d280a22b",
   "metadata": {},
   "outputs": [],
   "source": [
    "#import python library\n",
    "import pandas as pd\n",
    "import numpy as np\n",
    "import matplotlib.pyplot as plt\n",
    "%matplotlib inline\n",
    "import math\n",
    "import seaborn as sns\n",
    "import plotly.io as pio\n",
    "import plotly.express as px\n",
    "import plotly.graph_objects as go  \n",
    "from IPython.display import Image\n",
    "from sklearn import preprocessing\n",
    "from sklearn.cluster import KMeans\n",
    "from scipy.spatial.distance import cdist\n",
    "from sklearn.preprocessing import StandardScaler, normalize"
   ]
  },
  {
   "cell_type": "code",
   "execution_count": 2,
   "id": "3a9d83c6",
   "metadata": {},
   "outputs": [],
   "source": [
    "import os, sys\n",
    "import warnings\n",
    "warnings.filterwarnings('ignore')\n",
    "sys.path.append(os.path.abspath(os.path.join('../scripts')))\n",
    "from Data_exploration import *\n",
    "from Display_data import *\n",
    "import Data_exploration"
   ]
  },
  {
   "cell_type": "code",
   "execution_count": 4,
   "id": "a8d3af23",
   "metadata": {},
   "outputs": [
    {
     "data": {
      "text/html": [
       "<div>\n",
       "<style scoped>\n",
       "    .dataframe tbody tr th:only-of-type {\n",
       "        vertical-align: middle;\n",
       "    }\n",
       "\n",
       "    .dataframe tbody tr th {\n",
       "        vertical-align: top;\n",
       "    }\n",
       "\n",
       "    .dataframe thead th {\n",
       "        text-align: right;\n",
       "    }\n",
       "</style>\n",
       "<table border=\"1\" class=\"dataframe\">\n",
       "  <thead>\n",
       "    <tr style=\"text-align: right;\">\n",
       "      <th></th>\n",
       "      <th>Unnamed: 0</th>\n",
       "      <th>MSISDN/Number</th>\n",
       "      <th>Handset Type</th>\n",
       "      <th>Avg RTT DL (ms)</th>\n",
       "      <th>Avg RTT UL (ms)</th>\n",
       "      <th>TCP DL Retrans. Vol (Bytes)</th>\n",
       "      <th>TCP UL Retrans. Vol (Bytes)</th>\n",
       "      <th>Avg Bearer TP DL (kbps)</th>\n",
       "      <th>Avg Bearer TP UL (kbps)</th>\n",
       "      <th>Total_Avg_RTT</th>\n",
       "      <th>Total_Avg_Bearer_TP</th>\n",
       "      <th>Total_Avg_TCP</th>\n",
       "    </tr>\n",
       "  </thead>\n",
       "  <tbody>\n",
       "    <tr>\n",
       "      <th>0</th>\n",
       "      <td>0</td>\n",
       "      <td>33,664,962,239.00</td>\n",
       "      <td>Samsung Galaxy A5 Sm-A520F</td>\n",
       "      <td>42.00</td>\n",
       "      <td>5.00</td>\n",
       "      <td>20,809,914.27</td>\n",
       "      <td>759,658.66</td>\n",
       "      <td>23.00</td>\n",
       "      <td>44.00</td>\n",
       "      <td>47.00</td>\n",
       "      <td>46.00</td>\n",
       "      <td>21,569,572.94</td>\n",
       "    </tr>\n",
       "    <tr>\n",
       "      <th>1</th>\n",
       "      <td>1</td>\n",
       "      <td>33,681,854,413.00</td>\n",
       "      <td>Samsung Galaxy J5 (Sm-J530)</td>\n",
       "      <td>65.00</td>\n",
       "      <td>5.00</td>\n",
       "      <td>20,809,914.27</td>\n",
       "      <td>759,658.66</td>\n",
       "      <td>16.00</td>\n",
       "      <td>26.00</td>\n",
       "      <td>70.00</td>\n",
       "      <td>32.00</td>\n",
       "      <td>21,569,572.94</td>\n",
       "    </tr>\n",
       "    <tr>\n",
       "      <th>2</th>\n",
       "      <td>2</td>\n",
       "      <td>33,760,627,129.00</td>\n",
       "      <td>Samsung Galaxy A8 (2018)</td>\n",
       "      <td>109.80</td>\n",
       "      <td>17.66</td>\n",
       "      <td>20,809,914.27</td>\n",
       "      <td>759,658.66</td>\n",
       "      <td>6.00</td>\n",
       "      <td>9.00</td>\n",
       "      <td>127.46</td>\n",
       "      <td>12.00</td>\n",
       "      <td>21,569,572.94</td>\n",
       "    </tr>\n",
       "    <tr>\n",
       "      <th>3</th>\n",
       "      <td>3</td>\n",
       "      <td>33,750,343,200.00</td>\n",
       "      <td>undefined</td>\n",
       "      <td>109.80</td>\n",
       "      <td>17.66</td>\n",
       "      <td>20,809,914.27</td>\n",
       "      <td>759,658.66</td>\n",
       "      <td>44.00</td>\n",
       "      <td>44.00</td>\n",
       "      <td>127.46</td>\n",
       "      <td>88.00</td>\n",
       "      <td>21,569,572.94</td>\n",
       "    </tr>\n",
       "    <tr>\n",
       "      <th>4</th>\n",
       "      <td>4</td>\n",
       "      <td>33,699,795,932.00</td>\n",
       "      <td>Samsung Sm-G390F</td>\n",
       "      <td>109.80</td>\n",
       "      <td>17.66</td>\n",
       "      <td>20,809,914.27</td>\n",
       "      <td>759,658.66</td>\n",
       "      <td>6.00</td>\n",
       "      <td>9.00</td>\n",
       "      <td>127.46</td>\n",
       "      <td>12.00</td>\n",
       "      <td>21,569,572.94</td>\n",
       "    </tr>\n",
       "  </tbody>\n",
       "</table>\n",
       "</div>"
      ],
      "text/plain": [
       "   Unnamed: 0     MSISDN/Number                 Handset Type  Avg RTT DL (ms)  \\\n",
       "0           0 33,664,962,239.00   Samsung Galaxy A5 Sm-A520F            42.00   \n",
       "1           1 33,681,854,413.00  Samsung Galaxy J5 (Sm-J530)            65.00   \n",
       "2           2 33,760,627,129.00     Samsung Galaxy A8 (2018)           109.80   \n",
       "3           3 33,750,343,200.00                    undefined           109.80   \n",
       "4           4 33,699,795,932.00             Samsung Sm-G390F           109.80   \n",
       "\n",
       "   Avg RTT UL (ms)  TCP DL Retrans. Vol (Bytes)  TCP UL Retrans. Vol (Bytes)  \\\n",
       "0             5.00                20,809,914.27                   759,658.66   \n",
       "1             5.00                20,809,914.27                   759,658.66   \n",
       "2            17.66                20,809,914.27                   759,658.66   \n",
       "3            17.66                20,809,914.27                   759,658.66   \n",
       "4            17.66                20,809,914.27                   759,658.66   \n",
       "\n",
       "   Avg Bearer TP DL (kbps)  Avg Bearer TP UL (kbps)  Total_Avg_RTT  \\\n",
       "0                    23.00                    44.00          47.00   \n",
       "1                    16.00                    26.00          70.00   \n",
       "2                     6.00                     9.00         127.46   \n",
       "3                    44.00                    44.00         127.46   \n",
       "4                     6.00                     9.00         127.46   \n",
       "\n",
       "   Total_Avg_Bearer_TP  Total_Avg_TCP  \n",
       "0                46.00  21,569,572.94  \n",
       "1                32.00  21,569,572.94  \n",
       "2                12.00  21,569,572.94  \n",
       "3                88.00  21,569,572.94  \n",
       "4                12.00  21,569,572.94  "
      ]
     },
     "execution_count": 4,
     "metadata": {},
     "output_type": "execute_result"
    }
   ],
   "source": [
    "import warnings\n",
    "warnings.filterwarnings(\"ignore\", category=FutureWarning)\n",
    "pd.set_option('max_column', None)\n",
    "df = pd.read_csv('../data/user_experiance.csv')\n",
    "df.head()"
   ]
  },
  {
   "cell_type": "code",
   "execution_count": null,
   "id": "abaea9ce",
   "metadata": {},
   "outputs": [],
   "source": []
  },
  {
   "cell_type": "code",
   "execution_count": null,
   "id": "2beea748",
   "metadata": {},
   "outputs": [],
   "source": []
  },
  {
   "cell_type": "code",
   "execution_count": null,
   "id": "35077ea4",
   "metadata": {},
   "outputs": [],
   "source": []
  },
  {
   "cell_type": "markdown",
   "id": "dabf5ada",
   "metadata": {
    "colab": {
     "base_uri": "https://localhost:8080/"
    },
    "executionInfo": {
     "elapsed": 1954,
     "status": "ok",
     "timestamp": 1626169581117,
     "user": {
      "displayName": "Kevin Karobia",
      "photoUrl": "",
      "userId": "11620910033834049837"
     },
     "user_tz": -180
    },
    "id": "P6q1qE00g4nE",
    "outputId": "d84b0abd-ebf6-46cc-8f28-8a0db81f5875"
   },
   "source": [
    "In this section, you’re expected to focus on network parameters like TCP retransmission, Round Trip Time (RTT), Throughput, and the customers’ device characteristics like the handset type to conduct a deep user experience analysis. The network parameters are all columns in the dataset."
   ]
  },
  {
   "cell_type": "markdown",
   "id": "b553b91d",
   "metadata": {
    "id": "ee45d041"
   },
   "source": [
    "### Based on the engagement analysis + the experience analysis you conducted above ,\n",
    "#### Write a python program to assign:\n",
    "- Engagement score to each user\n",
    "- Consider the engagement score as the Euclidean distance between the user data point & the less engaged cluster (use the first clustering for this) (Euclidean Distance) experience score to each user. \n",
    "- Consider the experience score as the Euclidean distance between the user data point & the worst experience’s cluster. \n"
   ]
  },
  {
   "cell_type": "code",
   "execution_count": null,
   "id": "e864d42a",
   "metadata": {},
   "outputs": [],
   "source": []
  },
  {
   "cell_type": "markdown",
   "id": "1dec3aaf",
   "metadata": {},
   "source": [
    "####  Consider the average of both engagement & experience scores as  the satisfaction score & report the top 10 satisfied customer "
   ]
  },
  {
   "cell_type": "code",
   "execution_count": null,
   "id": "5a3d63a7",
   "metadata": {},
   "outputs": [],
   "source": []
  },
  {
   "cell_type": "markdown",
   "id": "bc9b20d8",
   "metadata": {},
   "source": [
    "#### Build a regression model of your choice to predict the satisfaction score of a customer. "
   ]
  },
  {
   "cell_type": "code",
   "execution_count": null,
   "id": "e425cb3e",
   "metadata": {},
   "outputs": [],
   "source": []
  },
  {
   "cell_type": "markdown",
   "id": "1de1e433",
   "metadata": {},
   "source": [
    "#### Run a k-means (k=2) on the engagement & the experience score . "
   ]
  },
  {
   "cell_type": "code",
   "execution_count": null,
   "id": "42eaeaf0",
   "metadata": {},
   "outputs": [],
   "source": []
  },
  {
   "cell_type": "markdown",
   "id": "5dd1515a",
   "metadata": {},
   "source": [
    "#### Aggregate the average satisfaction & experience score per cluster."
   ]
  },
  {
   "cell_type": "code",
   "execution_count": null,
   "id": "5df93575",
   "metadata": {},
   "outputs": [],
   "source": []
  },
  {
   "cell_type": "markdown",
   "id": "282be79d",
   "metadata": {},
   "source": [
    "#### Export your final table containing all user id + engagement, experience & satisfaction scores in your local MySQL database. Report a screenshot of a select query output on the exported table. \n"
   ]
  },
  {
   "cell_type": "code",
   "execution_count": null,
   "id": "e0a7850f",
   "metadata": {},
   "outputs": [],
   "source": []
  },
  {
   "cell_type": "markdown",
   "id": "6ab9912b",
   "metadata": {},
   "source": [
    "#### Model deployment tracking- deploy the model and monitor your model. Here you can use Docker or other MlOps tools which can help you to track your model’s change.  Your model tracking report includes code version, start and end time, source, parameters, metrics (loss convergence) and artefacts or any output file regarding each specific run. (CSV file, screenshot)\n"
   ]
  },
  {
   "cell_type": "code",
   "execution_count": null,
   "id": "4e14ea4e",
   "metadata": {},
   "outputs": [],
   "source": []
  },
  {
   "cell_type": "code",
   "execution_count": null,
   "id": "d37a2c57",
   "metadata": {},
   "outputs": [],
   "source": []
  },
  {
   "cell_type": "code",
   "execution_count": null,
   "id": "d345883b",
   "metadata": {},
   "outputs": [],
   "source": []
  },
  {
   "cell_type": "code",
   "execution_count": null,
   "id": "b326c40f",
   "metadata": {},
   "outputs": [],
   "source": []
  },
  {
   "cell_type": "code",
   "execution_count": null,
   "id": "8a444f98",
   "metadata": {},
   "outputs": [],
   "source": []
  },
  {
   "cell_type": "code",
   "execution_count": null,
   "id": "bf07c0df",
   "metadata": {},
   "outputs": [],
   "source": []
  },
  {
   "cell_type": "code",
   "execution_count": null,
   "id": "b931485e",
   "metadata": {},
   "outputs": [],
   "source": []
  },
  {
   "cell_type": "code",
   "execution_count": null,
   "id": "3b773838",
   "metadata": {},
   "outputs": [],
   "source": []
  }
 ],
 "metadata": {
  "colab": {
   "collapsed_sections": [],
   "name": "Data_Exploration.ipynb",
   "provenance": []
  },
  "kernelspec": {
   "display_name": "Python 3 (ipykernel)",
   "language": "python",
   "name": "python3"
  },
  "language_info": {
   "codemirror_mode": {
    "name": "ipython",
    "version": 3
   },
   "file_extension": ".py",
   "mimetype": "text/x-python",
   "name": "python",
   "nbconvert_exporter": "python",
   "pygments_lexer": "ipython3",
   "version": "3.9.7"
  }
 },
 "nbformat": 4,
 "nbformat_minor": 5
}
