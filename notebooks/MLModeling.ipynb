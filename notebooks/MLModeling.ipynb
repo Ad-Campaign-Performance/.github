{
 "cells": [
  {
   "cell_type": "markdown",
   "metadata": {},
   "source": [
    "# A/B Testing with Machine Learning"
   ]
  },
  {
   "cell_type": "markdown",
   "metadata": {},
   "source": [
    "### Split the Data by browser and platform_os\n",
    "> and version each split as a new version of the data in dvc."
   ]
  },
  {
   "cell_type": "markdown",
   "metadata": {},
   "source": [
    "Libraries"
   ]
  },
  {
   "cell_type": "code",
   "execution_count": 19,
   "metadata": {},
   "outputs": [],
   "source": [
    "import pandas as pd\n",
    "import numpy as np\n",
    "import seaborn as sns\n",
    "import os, sys"
   ]
  },
  {
   "cell_type": "code",
   "execution_count": 20,
   "metadata": {},
   "outputs": [],
   "source": [
    "#pip install xgboost"
   ]
  },
  {
   "cell_type": "code",
   "execution_count": 21,
   "metadata": {},
   "outputs": [],
   "source": [
    "# To Train our data\n",
    "from sklearn import preprocessing\n",
    "from xgboost import XGBClassifier\n",
    "from sklearn.tree import DecisionTreeClassifier\n",
    "from sklearn.ensemble import RandomForestClassifier\n",
    "from sklearn.neighbors import KNeighborsClassifier\n",
    "from sklearn.linear_model import LogisticRegression\n",
    "from sklearn.naive_bayes import BernoulliNB, GaussianNB"
   ]
  },
  {
   "cell_type": "code",
   "execution_count": 22,
   "metadata": {},
   "outputs": [],
   "source": [
    "#path of file\n",
    "path_parent = os.path.dirname(os.getcwd())\n",
    "os.chdir(path_parent)\n",
    "sys.path.insert(0, path_parent+'/notebooks')"
   ]
  },
  {
   "cell_type": "markdown",
   "metadata": {},
   "source": [
    "Get the Data"
   ]
  },
  {
   "cell_type": "markdown",
   "metadata": {},
   "source": [
    "Import the Data"
   ]
  },
  {
   "cell_type": "code",
   "execution_count": 27,
   "metadata": {},
   "outputs": [
    {
     "ename": "FileNotFoundError",
     "evalue": "[Errno 2] No such file or directory: 'data/AdSmartABdata.csv'",
     "output_type": "error",
     "traceback": [
      "\u001b[0;31m---------------------------------------------------------------------------\u001b[0m",
      "\u001b[0;31mFileNotFoundError\u001b[0m                         Traceback (most recent call last)",
      "\u001b[0;32m/tmp/ipykernel_59288/235820258.py\u001b[0m in \u001b[0;36m<module>\u001b[0;34m\u001b[0m\n\u001b[1;32m      2\u001b[0m \u001b[0mwarnings\u001b[0m\u001b[0;34m.\u001b[0m\u001b[0mfilterwarnings\u001b[0m\u001b[0;34m(\u001b[0m\u001b[0;34m\"ignore\"\u001b[0m\u001b[0;34m,\u001b[0m \u001b[0mcategory\u001b[0m\u001b[0;34m=\u001b[0m\u001b[0mFutureWarning\u001b[0m\u001b[0;34m)\u001b[0m\u001b[0;34m\u001b[0m\u001b[0;34m\u001b[0m\u001b[0m\n\u001b[1;32m      3\u001b[0m \u001b[0mpd\u001b[0m\u001b[0;34m.\u001b[0m\u001b[0mset_option\u001b[0m\u001b[0;34m(\u001b[0m\u001b[0;34m'max_column'\u001b[0m\u001b[0;34m,\u001b[0m \u001b[0;32mNone\u001b[0m\u001b[0;34m)\u001b[0m\u001b[0;34m\u001b[0m\u001b[0;34m\u001b[0m\u001b[0m\n\u001b[0;32m----> 4\u001b[0;31m \u001b[0mdf\u001b[0m \u001b[0;34m=\u001b[0m \u001b[0mpd\u001b[0m\u001b[0;34m.\u001b[0m\u001b[0mread_csv\u001b[0m\u001b[0;34m(\u001b[0m\u001b[0;34m'data/AdSmartABdata.csv'\u001b[0m\u001b[0;34m)\u001b[0m\u001b[0;34m\u001b[0m\u001b[0;34m\u001b[0m\u001b[0m\n\u001b[0m",
      "\u001b[0;32m~/anaconda3/lib/python3.9/site-packages/pandas/util/_decorators.py\u001b[0m in \u001b[0;36mwrapper\u001b[0;34m(*args, **kwargs)\u001b[0m\n\u001b[1;32m    309\u001b[0m                     \u001b[0mstacklevel\u001b[0m\u001b[0;34m=\u001b[0m\u001b[0mstacklevel\u001b[0m\u001b[0;34m,\u001b[0m\u001b[0;34m\u001b[0m\u001b[0;34m\u001b[0m\u001b[0m\n\u001b[1;32m    310\u001b[0m                 )\n\u001b[0;32m--> 311\u001b[0;31m             \u001b[0;32mreturn\u001b[0m \u001b[0mfunc\u001b[0m\u001b[0;34m(\u001b[0m\u001b[0;34m*\u001b[0m\u001b[0margs\u001b[0m\u001b[0;34m,\u001b[0m \u001b[0;34m**\u001b[0m\u001b[0mkwargs\u001b[0m\u001b[0;34m)\u001b[0m\u001b[0;34m\u001b[0m\u001b[0;34m\u001b[0m\u001b[0m\n\u001b[0m\u001b[1;32m    312\u001b[0m \u001b[0;34m\u001b[0m\u001b[0m\n\u001b[1;32m    313\u001b[0m         \u001b[0;32mreturn\u001b[0m \u001b[0mwrapper\u001b[0m\u001b[0;34m\u001b[0m\u001b[0;34m\u001b[0m\u001b[0m\n",
      "\u001b[0;32m~/anaconda3/lib/python3.9/site-packages/pandas/io/parsers/readers.py\u001b[0m in \u001b[0;36mread_csv\u001b[0;34m(filepath_or_buffer, sep, delimiter, header, names, index_col, usecols, squeeze, prefix, mangle_dupe_cols, dtype, engine, converters, true_values, false_values, skipinitialspace, skiprows, skipfooter, nrows, na_values, keep_default_na, na_filter, verbose, skip_blank_lines, parse_dates, infer_datetime_format, keep_date_col, date_parser, dayfirst, cache_dates, iterator, chunksize, compression, thousands, decimal, lineterminator, quotechar, quoting, doublequote, escapechar, comment, encoding, encoding_errors, dialect, error_bad_lines, warn_bad_lines, on_bad_lines, delim_whitespace, low_memory, memory_map, float_precision, storage_options)\u001b[0m\n\u001b[1;32m    584\u001b[0m     \u001b[0mkwds\u001b[0m\u001b[0;34m.\u001b[0m\u001b[0mupdate\u001b[0m\u001b[0;34m(\u001b[0m\u001b[0mkwds_defaults\u001b[0m\u001b[0;34m)\u001b[0m\u001b[0;34m\u001b[0m\u001b[0;34m\u001b[0m\u001b[0m\n\u001b[1;32m    585\u001b[0m \u001b[0;34m\u001b[0m\u001b[0m\n\u001b[0;32m--> 586\u001b[0;31m     \u001b[0;32mreturn\u001b[0m \u001b[0m_read\u001b[0m\u001b[0;34m(\u001b[0m\u001b[0mfilepath_or_buffer\u001b[0m\u001b[0;34m,\u001b[0m \u001b[0mkwds\u001b[0m\u001b[0;34m)\u001b[0m\u001b[0;34m\u001b[0m\u001b[0;34m\u001b[0m\u001b[0m\n\u001b[0m\u001b[1;32m    587\u001b[0m \u001b[0;34m\u001b[0m\u001b[0m\n\u001b[1;32m    588\u001b[0m \u001b[0;34m\u001b[0m\u001b[0m\n",
      "\u001b[0;32m~/anaconda3/lib/python3.9/site-packages/pandas/io/parsers/readers.py\u001b[0m in \u001b[0;36m_read\u001b[0;34m(filepath_or_buffer, kwds)\u001b[0m\n\u001b[1;32m    480\u001b[0m \u001b[0;34m\u001b[0m\u001b[0m\n\u001b[1;32m    481\u001b[0m     \u001b[0;31m# Create the parser.\u001b[0m\u001b[0;34m\u001b[0m\u001b[0;34m\u001b[0m\u001b[0m\n\u001b[0;32m--> 482\u001b[0;31m     \u001b[0mparser\u001b[0m \u001b[0;34m=\u001b[0m \u001b[0mTextFileReader\u001b[0m\u001b[0;34m(\u001b[0m\u001b[0mfilepath_or_buffer\u001b[0m\u001b[0;34m,\u001b[0m \u001b[0;34m**\u001b[0m\u001b[0mkwds\u001b[0m\u001b[0;34m)\u001b[0m\u001b[0;34m\u001b[0m\u001b[0;34m\u001b[0m\u001b[0m\n\u001b[0m\u001b[1;32m    483\u001b[0m \u001b[0;34m\u001b[0m\u001b[0m\n\u001b[1;32m    484\u001b[0m     \u001b[0;32mif\u001b[0m \u001b[0mchunksize\u001b[0m \u001b[0;32mor\u001b[0m \u001b[0miterator\u001b[0m\u001b[0;34m:\u001b[0m\u001b[0;34m\u001b[0m\u001b[0;34m\u001b[0m\u001b[0m\n",
      "\u001b[0;32m~/anaconda3/lib/python3.9/site-packages/pandas/io/parsers/readers.py\u001b[0m in \u001b[0;36m__init__\u001b[0;34m(self, f, engine, **kwds)\u001b[0m\n\u001b[1;32m    809\u001b[0m             \u001b[0mself\u001b[0m\u001b[0;34m.\u001b[0m\u001b[0moptions\u001b[0m\u001b[0;34m[\u001b[0m\u001b[0;34m\"has_index_names\"\u001b[0m\u001b[0;34m]\u001b[0m \u001b[0;34m=\u001b[0m \u001b[0mkwds\u001b[0m\u001b[0;34m[\u001b[0m\u001b[0;34m\"has_index_names\"\u001b[0m\u001b[0;34m]\u001b[0m\u001b[0;34m\u001b[0m\u001b[0;34m\u001b[0m\u001b[0m\n\u001b[1;32m    810\u001b[0m \u001b[0;34m\u001b[0m\u001b[0m\n\u001b[0;32m--> 811\u001b[0;31m         \u001b[0mself\u001b[0m\u001b[0;34m.\u001b[0m\u001b[0m_engine\u001b[0m \u001b[0;34m=\u001b[0m \u001b[0mself\u001b[0m\u001b[0;34m.\u001b[0m\u001b[0m_make_engine\u001b[0m\u001b[0;34m(\u001b[0m\u001b[0mself\u001b[0m\u001b[0;34m.\u001b[0m\u001b[0mengine\u001b[0m\u001b[0;34m)\u001b[0m\u001b[0;34m\u001b[0m\u001b[0;34m\u001b[0m\u001b[0m\n\u001b[0m\u001b[1;32m    812\u001b[0m \u001b[0;34m\u001b[0m\u001b[0m\n\u001b[1;32m    813\u001b[0m     \u001b[0;32mdef\u001b[0m \u001b[0mclose\u001b[0m\u001b[0;34m(\u001b[0m\u001b[0mself\u001b[0m\u001b[0;34m)\u001b[0m\u001b[0;34m:\u001b[0m\u001b[0;34m\u001b[0m\u001b[0;34m\u001b[0m\u001b[0m\n",
      "\u001b[0;32m~/anaconda3/lib/python3.9/site-packages/pandas/io/parsers/readers.py\u001b[0m in \u001b[0;36m_make_engine\u001b[0;34m(self, engine)\u001b[0m\n\u001b[1;32m   1038\u001b[0m             )\n\u001b[1;32m   1039\u001b[0m         \u001b[0;31m# error: Too many arguments for \"ParserBase\"\u001b[0m\u001b[0;34m\u001b[0m\u001b[0;34m\u001b[0m\u001b[0m\n\u001b[0;32m-> 1040\u001b[0;31m         \u001b[0;32mreturn\u001b[0m \u001b[0mmapping\u001b[0m\u001b[0;34m[\u001b[0m\u001b[0mengine\u001b[0m\u001b[0;34m]\u001b[0m\u001b[0;34m(\u001b[0m\u001b[0mself\u001b[0m\u001b[0;34m.\u001b[0m\u001b[0mf\u001b[0m\u001b[0;34m,\u001b[0m \u001b[0;34m**\u001b[0m\u001b[0mself\u001b[0m\u001b[0;34m.\u001b[0m\u001b[0moptions\u001b[0m\u001b[0;34m)\u001b[0m  \u001b[0;31m# type: ignore[call-arg]\u001b[0m\u001b[0;34m\u001b[0m\u001b[0;34m\u001b[0m\u001b[0m\n\u001b[0m\u001b[1;32m   1041\u001b[0m \u001b[0;34m\u001b[0m\u001b[0m\n\u001b[1;32m   1042\u001b[0m     \u001b[0;32mdef\u001b[0m \u001b[0m_failover_to_python\u001b[0m\u001b[0;34m(\u001b[0m\u001b[0mself\u001b[0m\u001b[0;34m)\u001b[0m\u001b[0;34m:\u001b[0m\u001b[0;34m\u001b[0m\u001b[0;34m\u001b[0m\u001b[0m\n",
      "\u001b[0;32m~/anaconda3/lib/python3.9/site-packages/pandas/io/parsers/c_parser_wrapper.py\u001b[0m in \u001b[0;36m__init__\u001b[0;34m(self, src, **kwds)\u001b[0m\n\u001b[1;32m     49\u001b[0m \u001b[0;34m\u001b[0m\u001b[0m\n\u001b[1;32m     50\u001b[0m         \u001b[0;31m# open handles\u001b[0m\u001b[0;34m\u001b[0m\u001b[0;34m\u001b[0m\u001b[0m\n\u001b[0;32m---> 51\u001b[0;31m         \u001b[0mself\u001b[0m\u001b[0;34m.\u001b[0m\u001b[0m_open_handles\u001b[0m\u001b[0;34m(\u001b[0m\u001b[0msrc\u001b[0m\u001b[0;34m,\u001b[0m \u001b[0mkwds\u001b[0m\u001b[0;34m)\u001b[0m\u001b[0;34m\u001b[0m\u001b[0;34m\u001b[0m\u001b[0m\n\u001b[0m\u001b[1;32m     52\u001b[0m         \u001b[0;32massert\u001b[0m \u001b[0mself\u001b[0m\u001b[0;34m.\u001b[0m\u001b[0mhandles\u001b[0m \u001b[0;32mis\u001b[0m \u001b[0;32mnot\u001b[0m \u001b[0;32mNone\u001b[0m\u001b[0;34m\u001b[0m\u001b[0;34m\u001b[0m\u001b[0m\n\u001b[1;32m     53\u001b[0m \u001b[0;34m\u001b[0m\u001b[0m\n",
      "\u001b[0;32m~/anaconda3/lib/python3.9/site-packages/pandas/io/parsers/base_parser.py\u001b[0m in \u001b[0;36m_open_handles\u001b[0;34m(self, src, kwds)\u001b[0m\n\u001b[1;32m    220\u001b[0m         \u001b[0mLet\u001b[0m \u001b[0mthe\u001b[0m \u001b[0mreaders\u001b[0m \u001b[0mopen\u001b[0m \u001b[0mIOHandles\u001b[0m \u001b[0mafter\u001b[0m \u001b[0mthey\u001b[0m \u001b[0mare\u001b[0m \u001b[0mdone\u001b[0m \u001b[0;32mwith\u001b[0m \u001b[0mtheir\u001b[0m \u001b[0mpotential\u001b[0m \u001b[0mraises\u001b[0m\u001b[0;34m.\u001b[0m\u001b[0;34m\u001b[0m\u001b[0;34m\u001b[0m\u001b[0m\n\u001b[1;32m    221\u001b[0m         \"\"\"\n\u001b[0;32m--> 222\u001b[0;31m         self.handles = get_handle(\n\u001b[0m\u001b[1;32m    223\u001b[0m             \u001b[0msrc\u001b[0m\u001b[0;34m,\u001b[0m\u001b[0;34m\u001b[0m\u001b[0;34m\u001b[0m\u001b[0m\n\u001b[1;32m    224\u001b[0m             \u001b[0;34m\"r\"\u001b[0m\u001b[0;34m,\u001b[0m\u001b[0;34m\u001b[0m\u001b[0;34m\u001b[0m\u001b[0m\n",
      "\u001b[0;32m~/anaconda3/lib/python3.9/site-packages/pandas/io/common.py\u001b[0m in \u001b[0;36mget_handle\u001b[0;34m(path_or_buf, mode, encoding, compression, memory_map, is_text, errors, storage_options)\u001b[0m\n\u001b[1;32m    700\u001b[0m         \u001b[0;32mif\u001b[0m \u001b[0mioargs\u001b[0m\u001b[0;34m.\u001b[0m\u001b[0mencoding\u001b[0m \u001b[0;32mand\u001b[0m \u001b[0;34m\"b\"\u001b[0m \u001b[0;32mnot\u001b[0m \u001b[0;32min\u001b[0m \u001b[0mioargs\u001b[0m\u001b[0;34m.\u001b[0m\u001b[0mmode\u001b[0m\u001b[0;34m:\u001b[0m\u001b[0;34m\u001b[0m\u001b[0;34m\u001b[0m\u001b[0m\n\u001b[1;32m    701\u001b[0m             \u001b[0;31m# Encoding\u001b[0m\u001b[0;34m\u001b[0m\u001b[0;34m\u001b[0m\u001b[0m\n\u001b[0;32m--> 702\u001b[0;31m             handle = open(\n\u001b[0m\u001b[1;32m    703\u001b[0m                 \u001b[0mhandle\u001b[0m\u001b[0;34m,\u001b[0m\u001b[0;34m\u001b[0m\u001b[0;34m\u001b[0m\u001b[0m\n\u001b[1;32m    704\u001b[0m                 \u001b[0mioargs\u001b[0m\u001b[0;34m.\u001b[0m\u001b[0mmode\u001b[0m\u001b[0;34m,\u001b[0m\u001b[0;34m\u001b[0m\u001b[0;34m\u001b[0m\u001b[0m\n",
      "\u001b[0;31mFileNotFoundError\u001b[0m: [Errno 2] No such file or directory: 'data/AdSmartABdata.csv'"
     ]
    }
   ],
   "source": [
    "import warnings\n",
    "warnings.filterwarnings(\"ignore\", category=FutureWarning)\n",
    "pd.set_option('max_column', None)\n",
    "df = pd.read_csv('data/AdSmartABdata.csv')"
   ]
  },
  {
   "cell_type": "code",
   "execution_count": 28,
   "metadata": {},
   "outputs": [
    {
     "data": {
      "text/html": [
       "<div>\n",
       "<style scoped>\n",
       "    .dataframe tbody tr th:only-of-type {\n",
       "        vertical-align: middle;\n",
       "    }\n",
       "\n",
       "    .dataframe tbody tr th {\n",
       "        vertical-align: top;\n",
       "    }\n",
       "\n",
       "    .dataframe thead th {\n",
       "        text-align: right;\n",
       "    }\n",
       "</style>\n",
       "<table border=\"1\" class=\"dataframe\">\n",
       "  <thead>\n",
       "    <tr style=\"text-align: right;\">\n",
       "      <th></th>\n",
       "      <th>auction_id</th>\n",
       "      <th>experiment</th>\n",
       "      <th>date</th>\n",
       "      <th>hour</th>\n",
       "      <th>device_make</th>\n",
       "      <th>platform_os</th>\n",
       "      <th>browser</th>\n",
       "      <th>yes</th>\n",
       "      <th>no</th>\n",
       "    </tr>\n",
       "  </thead>\n",
       "  <tbody>\n",
       "    <tr>\n",
       "      <th>0</th>\n",
       "      <td>0008ef63-77a7-448b-bd1e-075f42c55e39</td>\n",
       "      <td>1</td>\n",
       "      <td>7</td>\n",
       "      <td>8</td>\n",
       "      <td>46</td>\n",
       "      <td>6</td>\n",
       "      <td>2</td>\n",
       "      <td>0</td>\n",
       "      <td>0</td>\n",
       "    </tr>\n",
       "    <tr>\n",
       "      <th>1</th>\n",
       "      <td>000eabc5-17ce-4137-8efe-44734d914446</td>\n",
       "      <td>1</td>\n",
       "      <td>4</td>\n",
       "      <td>10</td>\n",
       "      <td>46</td>\n",
       "      <td>6</td>\n",
       "      <td>2</td>\n",
       "      <td>0</td>\n",
       "      <td>0</td>\n",
       "    </tr>\n",
       "    <tr>\n",
       "      <th>2</th>\n",
       "      <td>0016d14a-ae18-4a02-a204-6ba53b52f2ed</td>\n",
       "      <td>1</td>\n",
       "      <td>2</td>\n",
       "      <td>2</td>\n",
       "      <td>29</td>\n",
       "      <td>6</td>\n",
       "      <td>3</td>\n",
       "      <td>0</td>\n",
       "      <td>1</td>\n",
       "    </tr>\n",
       "    <tr>\n",
       "      <th>3</th>\n",
       "      <td>00187412-2932-4542-a8ef-3633901c98d9</td>\n",
       "      <td>0</td>\n",
       "      <td>0</td>\n",
       "      <td>15</td>\n",
       "      <td>137</td>\n",
       "      <td>6</td>\n",
       "      <td>6</td>\n",
       "      <td>0</td>\n",
       "      <td>0</td>\n",
       "    </tr>\n",
       "    <tr>\n",
       "      <th>4</th>\n",
       "      <td>001a7785-d3fe-4e11-a344-c8735acacc2c</td>\n",
       "      <td>0</td>\n",
       "      <td>0</td>\n",
       "      <td>15</td>\n",
       "      <td>46</td>\n",
       "      <td>6</td>\n",
       "      <td>2</td>\n",
       "      <td>0</td>\n",
       "      <td>0</td>\n",
       "    </tr>\n",
       "    <tr>\n",
       "      <th>5</th>\n",
       "      <td>0027ce48-d3c6-4935-bb12-dfb5d5627857</td>\n",
       "      <td>0</td>\n",
       "      <td>0</td>\n",
       "      <td>15</td>\n",
       "      <td>177</td>\n",
       "      <td>6</td>\n",
       "      <td>6</td>\n",
       "      <td>0</td>\n",
       "      <td>0</td>\n",
       "    </tr>\n",
       "    <tr>\n",
       "      <th>6</th>\n",
       "      <td>002e308b-1a07-49d6-8560-0fbcdcd71e4b</td>\n",
       "      <td>0</td>\n",
       "      <td>0</td>\n",
       "      <td>15</td>\n",
       "      <td>46</td>\n",
       "      <td>6</td>\n",
       "      <td>2</td>\n",
       "      <td>0</td>\n",
       "      <td>0</td>\n",
       "    </tr>\n",
       "    <tr>\n",
       "      <th>7</th>\n",
       "      <td>00393fb9-ca32-40c0-bfcb-1bd83f319820</td>\n",
       "      <td>0</td>\n",
       "      <td>6</td>\n",
       "      <td>5</td>\n",
       "      <td>184</td>\n",
       "      <td>6</td>\n",
       "      <td>6</td>\n",
       "      <td>0</td>\n",
       "      <td>0</td>\n",
       "    </tr>\n",
       "    <tr>\n",
       "      <th>8</th>\n",
       "      <td>004940f5-c642-417a-8fd2-c8e5d989f358</td>\n",
       "      <td>1</td>\n",
       "      <td>1</td>\n",
       "      <td>0</td>\n",
       "      <td>46</td>\n",
       "      <td>6</td>\n",
       "      <td>3</td>\n",
       "      <td>0</td>\n",
       "      <td>0</td>\n",
       "    </tr>\n",
       "    <tr>\n",
       "      <th>9</th>\n",
       "      <td>004c4cc9-f2ca-4df7-adc9-3d0c3c4f0342</td>\n",
       "      <td>0</td>\n",
       "      <td>2</td>\n",
       "      <td>14</td>\n",
       "      <td>46</td>\n",
       "      <td>6</td>\n",
       "      <td>2</td>\n",
       "      <td>0</td>\n",
       "      <td>0</td>\n",
       "    </tr>\n",
       "  </tbody>\n",
       "</table>\n",
       "</div>"
      ],
      "text/plain": [
       "                             auction_id  experiment  date  hour  device_make  \\\n",
       "0  0008ef63-77a7-448b-bd1e-075f42c55e39           1     7     8           46   \n",
       "1  000eabc5-17ce-4137-8efe-44734d914446           1     4    10           46   \n",
       "2  0016d14a-ae18-4a02-a204-6ba53b52f2ed           1     2     2           29   \n",
       "3  00187412-2932-4542-a8ef-3633901c98d9           0     0    15          137   \n",
       "4  001a7785-d3fe-4e11-a344-c8735acacc2c           0     0    15           46   \n",
       "5  0027ce48-d3c6-4935-bb12-dfb5d5627857           0     0    15          177   \n",
       "6  002e308b-1a07-49d6-8560-0fbcdcd71e4b           0     0    15           46   \n",
       "7  00393fb9-ca32-40c0-bfcb-1bd83f319820           0     6     5          184   \n",
       "8  004940f5-c642-417a-8fd2-c8e5d989f358           1     1     0           46   \n",
       "9  004c4cc9-f2ca-4df7-adc9-3d0c3c4f0342           0     2    14           46   \n",
       "\n",
       "   platform_os  browser  yes  no  \n",
       "0            6        2    0   0  \n",
       "1            6        2    0   0  \n",
       "2            6        3    0   1  \n",
       "3            6        6    0   0  \n",
       "4            6        2    0   0  \n",
       "5            6        6    0   0  \n",
       "6            6        2    0   0  \n",
       "7            6        6    0   0  \n",
       "8            6        3    0   0  \n",
       "9            6        2    0   0  "
      ]
     },
     "execution_count": 28,
     "metadata": {},
     "output_type": "execute_result"
    }
   ],
   "source": [
    "df.head(10)"
   ]
  },
  {
   "cell_type": "code",
   "execution_count": 29,
   "metadata": {},
   "outputs": [
    {
     "data": {
      "text/html": [
       "<div>\n",
       "<style scoped>\n",
       "    .dataframe tbody tr th:only-of-type {\n",
       "        vertical-align: middle;\n",
       "    }\n",
       "\n",
       "    .dataframe tbody tr th {\n",
       "        vertical-align: top;\n",
       "    }\n",
       "\n",
       "    .dataframe thead th {\n",
       "        text-align: right;\n",
       "    }\n",
       "</style>\n",
       "<table border=\"1\" class=\"dataframe\">\n",
       "  <thead>\n",
       "    <tr style=\"text-align: right;\">\n",
       "      <th></th>\n",
       "      <th>auction_id</th>\n",
       "      <th>experiment</th>\n",
       "      <th>date</th>\n",
       "      <th>hour</th>\n",
       "      <th>device_make</th>\n",
       "      <th>platform_os</th>\n",
       "      <th>browser</th>\n",
       "      <th>target_class</th>\n",
       "    </tr>\n",
       "  </thead>\n",
       "  <tbody>\n",
       "    <tr>\n",
       "      <th>0</th>\n",
       "      <td>0008ef63-77a7-448b-bd1e-075f42c55e39</td>\n",
       "      <td>1</td>\n",
       "      <td>7</td>\n",
       "      <td>8</td>\n",
       "      <td>46</td>\n",
       "      <td>6</td>\n",
       "      <td>2</td>\n",
       "      <td>False</td>\n",
       "    </tr>\n",
       "    <tr>\n",
       "      <th>1</th>\n",
       "      <td>000eabc5-17ce-4137-8efe-44734d914446</td>\n",
       "      <td>1</td>\n",
       "      <td>4</td>\n",
       "      <td>10</td>\n",
       "      <td>46</td>\n",
       "      <td>6</td>\n",
       "      <td>2</td>\n",
       "      <td>False</td>\n",
       "    </tr>\n",
       "    <tr>\n",
       "      <th>2</th>\n",
       "      <td>0016d14a-ae18-4a02-a204-6ba53b52f2ed</td>\n",
       "      <td>1</td>\n",
       "      <td>2</td>\n",
       "      <td>2</td>\n",
       "      <td>29</td>\n",
       "      <td>6</td>\n",
       "      <td>3</td>\n",
       "      <td>False</td>\n",
       "    </tr>\n",
       "    <tr>\n",
       "      <th>3</th>\n",
       "      <td>00187412-2932-4542-a8ef-3633901c98d9</td>\n",
       "      <td>0</td>\n",
       "      <td>0</td>\n",
       "      <td>15</td>\n",
       "      <td>137</td>\n",
       "      <td>6</td>\n",
       "      <td>6</td>\n",
       "      <td>False</td>\n",
       "    </tr>\n",
       "    <tr>\n",
       "      <th>4</th>\n",
       "      <td>001a7785-d3fe-4e11-a344-c8735acacc2c</td>\n",
       "      <td>0</td>\n",
       "      <td>0</td>\n",
       "      <td>15</td>\n",
       "      <td>46</td>\n",
       "      <td>6</td>\n",
       "      <td>2</td>\n",
       "      <td>False</td>\n",
       "    </tr>\n",
       "  </tbody>\n",
       "</table>\n",
       "</div>"
      ],
      "text/plain": [
       "                             auction_id  experiment  date  hour  device_make  \\\n",
       "0  0008ef63-77a7-448b-bd1e-075f42c55e39           1     7     8           46   \n",
       "1  000eabc5-17ce-4137-8efe-44734d914446           1     4    10           46   \n",
       "2  0016d14a-ae18-4a02-a204-6ba53b52f2ed           1     2     2           29   \n",
       "3  00187412-2932-4542-a8ef-3633901c98d9           0     0    15          137   \n",
       "4  001a7785-d3fe-4e11-a344-c8735acacc2c           0     0    15           46   \n",
       "\n",
       "   platform_os  browser  target_class  \n",
       "0            6        2         False  \n",
       "1            6        2         False  \n",
       "2            6        3         False  \n",
       "3            6        6         False  \n",
       "4            6        2         False  "
      ]
     },
     "execution_count": 29,
     "metadata": {},
     "output_type": "execute_result"
    }
   ],
   "source": [
    "df['target_class'] = df['yes'].map(lambda x: x==1)\n",
    "df = df.drop(columns = ['yes', 'no'], axis=1)\n",
    "df.head()"
   ]
  },
  {
   "cell_type": "code",
   "execution_count": 30,
   "metadata": {},
   "outputs": [],
   "source": [
    "# Encode aware to 0 and 1\n",
    "df['target_class'] = df['target_class'].astype(int)"
   ]
  },
  {
   "cell_type": "markdown",
   "metadata": {},
   "source": [
    "### Label Encoding the Data"
   ]
  },
  {
   "cell_type": "code",
   "execution_count": 31,
   "metadata": {},
   "outputs": [],
   "source": [
    "def encode_labels(df):\n",
    "    date_encoder = preprocessing.LabelEncoder()\n",
    "    device_encoder = preprocessing.LabelEncoder()\n",
    "    browser_encoder = preprocessing.LabelEncoder()\n",
    "    experiment_encoder = preprocessing.LabelEncoder()\n",
    "    target_class = preprocessing.LabelEncoder()\n",
    "    \n",
    "    df['date'] = date_encoder.fit_transform(df['date'])\n",
    "    df['device_make'] = device_encoder.fit_transform(df['device_make'])\n",
    "    df['browser'] = browser_encoder.fit_transform(df['browser'])\n",
    "    df['experiment'] = experiment_encoder.fit_transform(df['experiment'])\n",
    "    df['browser'] = target_class.fit_transform(df['browser'])\n",
    "    df['target_class'] = target_class.fit_transform(df['target_class'])\n",
    "    \n",
    "    return df  "
   ]
  },
  {
   "cell_type": "markdown",
   "metadata": {},
   "source": [
    "#### Split data by browser and platform_os, and version each split as a new version of the data in dvc."
   ]
  },
  {
   "cell_type": "code",
   "execution_count": 32,
   "metadata": {},
   "outputs": [],
   "source": [
    "def split_data(df):\n",
    "    \n",
    "    browser_df = df[[\"experiment\", \"hour\", \"date\", 'device_make', 'browser', 'target_class']] \n",
    "    platform_df = df[[\"experiment\", \"hour\", \"date\", 'device_make', 'platform_os', 'target_class']] \n",
    "\n",
    "    return browser_df, platform_df"
   ]
  },
  {
   "cell_type": "markdown",
   "metadata": {},
   "source": [
    "Save the split dataset"
   ]
  },
  {
   "cell_type": "code",
   "execution_count": 33,
   "metadata": {},
   "outputs": [
    {
     "ename": "FileNotFoundError",
     "evalue": "[Errno 2] No such file or directory: 'data/browser_data.csv'",
     "output_type": "error",
     "traceback": [
      "\u001b[0;31m---------------------------------------------------------------------------\u001b[0m",
      "\u001b[0;31mFileNotFoundError\u001b[0m                         Traceback (most recent call last)",
      "\u001b[0;32m/tmp/ipykernel_59288/1131279324.py\u001b[0m in \u001b[0;36m<module>\u001b[0;34m\u001b[0m\n\u001b[1;32m      1\u001b[0m \u001b[0mbroweser_df\u001b[0m\u001b[0;34m,\u001b[0m \u001b[0mplatfrom_df\u001b[0m \u001b[0;34m=\u001b[0m \u001b[0msplit_data\u001b[0m\u001b[0;34m(\u001b[0m\u001b[0mdf\u001b[0m\u001b[0;34m)\u001b[0m\u001b[0;34m\u001b[0m\u001b[0;34m\u001b[0m\u001b[0m\n\u001b[0;32m----> 2\u001b[0;31m \u001b[0mbroweser_df\u001b[0m\u001b[0;34m.\u001b[0m\u001b[0mto_csv\u001b[0m\u001b[0;34m(\u001b[0m\u001b[0;34m\"data/browser_data.csv\"\u001b[0m\u001b[0;34m)\u001b[0m\u001b[0;34m\u001b[0m\u001b[0;34m\u001b[0m\u001b[0m\n\u001b[0m\u001b[1;32m      3\u001b[0m \u001b[0mplatfrom_df\u001b[0m\u001b[0;34m.\u001b[0m\u001b[0mto_csv\u001b[0m\u001b[0;34m(\u001b[0m\u001b[0;34m\"data/platform_data.csv\"\u001b[0m\u001b[0;34m)\u001b[0m\u001b[0;34m\u001b[0m\u001b[0;34m\u001b[0m\u001b[0m\n",
      "\u001b[0;32m~/anaconda3/lib/python3.9/site-packages/pandas/core/generic.py\u001b[0m in \u001b[0;36mto_csv\u001b[0;34m(self, path_or_buf, sep, na_rep, float_format, columns, header, index, index_label, mode, encoding, compression, quoting, quotechar, line_terminator, chunksize, date_format, doublequote, escapechar, decimal, errors, storage_options)\u001b[0m\n\u001b[1;32m   3464\u001b[0m         )\n\u001b[1;32m   3465\u001b[0m \u001b[0;34m\u001b[0m\u001b[0m\n\u001b[0;32m-> 3466\u001b[0;31m         return DataFrameRenderer(formatter).to_csv(\n\u001b[0m\u001b[1;32m   3467\u001b[0m             \u001b[0mpath_or_buf\u001b[0m\u001b[0;34m,\u001b[0m\u001b[0;34m\u001b[0m\u001b[0;34m\u001b[0m\u001b[0m\n\u001b[1;32m   3468\u001b[0m             \u001b[0mline_terminator\u001b[0m\u001b[0;34m=\u001b[0m\u001b[0mline_terminator\u001b[0m\u001b[0;34m,\u001b[0m\u001b[0;34m\u001b[0m\u001b[0;34m\u001b[0m\u001b[0m\n",
      "\u001b[0;32m~/anaconda3/lib/python3.9/site-packages/pandas/io/formats/format.py\u001b[0m in \u001b[0;36mto_csv\u001b[0;34m(self, path_or_buf, encoding, sep, columns, index_label, mode, compression, quoting, quotechar, line_terminator, chunksize, date_format, doublequote, escapechar, errors, storage_options)\u001b[0m\n\u001b[1;32m   1103\u001b[0m             \u001b[0mformatter\u001b[0m\u001b[0;34m=\u001b[0m\u001b[0mself\u001b[0m\u001b[0;34m.\u001b[0m\u001b[0mfmt\u001b[0m\u001b[0;34m,\u001b[0m\u001b[0;34m\u001b[0m\u001b[0;34m\u001b[0m\u001b[0m\n\u001b[1;32m   1104\u001b[0m         )\n\u001b[0;32m-> 1105\u001b[0;31m         \u001b[0mcsv_formatter\u001b[0m\u001b[0;34m.\u001b[0m\u001b[0msave\u001b[0m\u001b[0;34m(\u001b[0m\u001b[0;34m)\u001b[0m\u001b[0;34m\u001b[0m\u001b[0;34m\u001b[0m\u001b[0m\n\u001b[0m\u001b[1;32m   1106\u001b[0m \u001b[0;34m\u001b[0m\u001b[0m\n\u001b[1;32m   1107\u001b[0m         \u001b[0;32mif\u001b[0m \u001b[0mcreated_buffer\u001b[0m\u001b[0;34m:\u001b[0m\u001b[0;34m\u001b[0m\u001b[0;34m\u001b[0m\u001b[0m\n",
      "\u001b[0;32m~/anaconda3/lib/python3.9/site-packages/pandas/io/formats/csvs.py\u001b[0m in \u001b[0;36msave\u001b[0;34m(self)\u001b[0m\n\u001b[1;32m    235\u001b[0m         \"\"\"\n\u001b[1;32m    236\u001b[0m         \u001b[0;31m# apply compression and byte/text conversion\u001b[0m\u001b[0;34m\u001b[0m\u001b[0;34m\u001b[0m\u001b[0m\n\u001b[0;32m--> 237\u001b[0;31m         with get_handle(\n\u001b[0m\u001b[1;32m    238\u001b[0m             \u001b[0mself\u001b[0m\u001b[0;34m.\u001b[0m\u001b[0mfilepath_or_buffer\u001b[0m\u001b[0;34m,\u001b[0m\u001b[0;34m\u001b[0m\u001b[0;34m\u001b[0m\u001b[0m\n\u001b[1;32m    239\u001b[0m             \u001b[0mself\u001b[0m\u001b[0;34m.\u001b[0m\u001b[0mmode\u001b[0m\u001b[0;34m,\u001b[0m\u001b[0;34m\u001b[0m\u001b[0;34m\u001b[0m\u001b[0m\n",
      "\u001b[0;32m~/anaconda3/lib/python3.9/site-packages/pandas/io/common.py\u001b[0m in \u001b[0;36mget_handle\u001b[0;34m(path_or_buf, mode, encoding, compression, memory_map, is_text, errors, storage_options)\u001b[0m\n\u001b[1;32m    700\u001b[0m         \u001b[0;32mif\u001b[0m \u001b[0mioargs\u001b[0m\u001b[0;34m.\u001b[0m\u001b[0mencoding\u001b[0m \u001b[0;32mand\u001b[0m \u001b[0;34m\"b\"\u001b[0m \u001b[0;32mnot\u001b[0m \u001b[0;32min\u001b[0m \u001b[0mioargs\u001b[0m\u001b[0;34m.\u001b[0m\u001b[0mmode\u001b[0m\u001b[0;34m:\u001b[0m\u001b[0;34m\u001b[0m\u001b[0;34m\u001b[0m\u001b[0m\n\u001b[1;32m    701\u001b[0m             \u001b[0;31m# Encoding\u001b[0m\u001b[0;34m\u001b[0m\u001b[0;34m\u001b[0m\u001b[0m\n\u001b[0;32m--> 702\u001b[0;31m             handle = open(\n\u001b[0m\u001b[1;32m    703\u001b[0m                 \u001b[0mhandle\u001b[0m\u001b[0;34m,\u001b[0m\u001b[0;34m\u001b[0m\u001b[0;34m\u001b[0m\u001b[0m\n\u001b[1;32m    704\u001b[0m                 \u001b[0mioargs\u001b[0m\u001b[0;34m.\u001b[0m\u001b[0mmode\u001b[0m\u001b[0;34m,\u001b[0m\u001b[0;34m\u001b[0m\u001b[0;34m\u001b[0m\u001b[0m\n",
      "\u001b[0;31mFileNotFoundError\u001b[0m: [Errno 2] No such file or directory: 'data/browser_data.csv'"
     ]
    }
   ],
   "source": [
    "broweser_df, platfrom_df = split_data(df)\n",
    "broweser_df.to_csv(\"data/browser_data.csv\")\n",
    "platfrom_df.to_csv(\"data/platform_data.csv\") "
   ]
  },
  {
   "cell_type": "markdown",
   "metadata": {},
   "source": [
    "### Exploring the dataset "
   ]
  },
  {
   "cell_type": "code",
   "execution_count": 34,
   "metadata": {},
   "outputs": [],
   "source": [
    "from sklearn.model_selection import train_test_split\n",
    "feature_cols = [\"experiment\", \"hour\", \"date\", 'device_make', 'browser']\n",
    "\n",
    "X = df[feature_cols]\n",
    "y = df[['target_class']]\n",
    "\n",
    "test_size = 0.1\n",
    "X_train, X_test, y_train, y_test = train_test_split(X, y, test_size=test_size, random_state=42)"
   ]
  },
  {
   "cell_type": "code",
   "execution_count": 46,
   "metadata": {},
   "outputs": [],
   "source": [
    "X_train, X_valid, y_train, y_valid = train_test_split(X_train, y_train, test_size=0.2, random_state=42)"
   ]
  },
  {
   "cell_type": "markdown",
   "metadata": {},
   "source": [
    "### Training the models"
   ]
  },
  {
   "cell_type": "markdown",
   "metadata": {},
   "source": [
    "* Random Forest (It's my favorite)\n",
    "* Desicion Tree\n",
    "* Logistic Regression Classifier\n",
    "* Bernouilli Naive Bias\n",
    "* Gaussian Naive Bias\n",
    "* KNN (K-Nearest Neighbors)\n",
    "* XGBoost (It's new and have acurate predictions)"
   ]
  },
  {
   "cell_type": "code",
   "execution_count": 47,
   "metadata": {},
   "outputs": [
    {
     "name": "stderr",
     "output_type": "stream",
     "text": [
      "/tmp/ipykernel_59288/3992851503.py:5: DataConversionWarning: A column-vector y was passed when a 1d array was expected. Please change the shape of y to (n_samples,), for example using ravel().\n",
      "  rf.fit(X_train, y_train)\n"
     ]
    },
    {
     "name": "stdout",
     "output_type": "stream",
     "text": [
      "Predicted: [1 0 0 0 0 0 0 0 0 0]\n",
      "Actual:       target_class\n",
      "1595             1\n",
      "7063             0\n",
      "2111             0\n",
      "6237             0\n",
      "1862             0\n",
      "3519             0\n",
      "487              0\n",
      "6578             0\n",
      "6414             0\n",
      "3207             0\n"
     ]
    }
   ],
   "source": [
    "# Define Random Forest Model\n",
    "rf = RandomForestClassifier(n_estimators=100)\n",
    "\n",
    "# We fit our model with our train data\n",
    "rf.fit(X_train, y_train)\n",
    "\n",
    "# Then predict results from X_test data\n",
    "pred_rf = rf.predict(X_test)\n",
    "\n",
    "# See First 10 Predictions and They Actual Values\n",
    "print(\"Predicted:\", pred_rf[0:10])\n",
    "print(\"Actual:\", y_test[0:10])"
   ]
  },
  {
   "cell_type": "markdown",
   "metadata": {},
   "source": [
    "Feature importance"
   ]
  },
  {
   "cell_type": "code",
   "execution_count": 36,
   "metadata": {},
   "outputs": [
    {
     "name": "stderr",
     "output_type": "stream",
     "text": [
      "/tmp/ipykernel_59288/277187028.py:5: DataConversionWarning: A column-vector y was passed when a 1d array was expected. Please change the shape of y to (n_samples,), for example using ravel().\n",
      "  model.fit(X_train,y_train)\n"
     ]
    },
    {
     "data": {
      "image/png": "[encoded data removed]",
      "text/plain": [
       "<Figure size 576x432 with 1 Axes>"
      ]
     },
     "metadata": {
      "needs_background": "light"
     },
     "output_type": "display_data"
    }
   ],
   "source": [
    "# Feature Importance:using Random forest Classifier\n",
    "from sklearn.ensemble import RandomForestClassifier\n",
    "import matplotlib.pyplot as plt\n",
    "model=RandomForestClassifier()\n",
    "model.fit(X_train,y_train)\n",
    "plt.figure(figsize=(8,6))\n",
    "ranked_features=pd.Series(model.feature_importances_,index=X.columns)\n",
    "ranked_features.nlargest(24).plot(kind='barh')\n",
    "plt.show()"
   ]
  },
  {
   "cell_type": "code",
   "execution_count": 48,
   "metadata": {},
   "outputs": [],
   "source": [
    "xgb_params={\n",
    "    \"learning_rate\":[0.05,0.10,0.15,0.20,0.25,0.30],\n",
    "    \"max_depth\":[3,4,5,6,8,10,12,15],\n",
    "    \"min_child_weight\":[1,3,5,7],\n",
    "    \"gamma\":[0.0,0.1,0.2,0.3,0.4],\n",
    "    \"colsample_bytree\":[0.3,0.4,0.5,0.7]\n",
    "}\n"
   ]
  },
  {
   "cell_type": "code",
   "execution_count": 49,
   "metadata": {},
   "outputs": [],
   "source": [
    "from sklearn.model_selection import RandomizedSearchCV"
   ]
  },
  {
   "cell_type": "code",
   "execution_count": 50,
   "metadata": {},
   "outputs": [
    {
     "name": "stdout",
     "output_type": "stream",
     "text": [
      "Fitting 10 folds for each of 10 candidates, totalling 100 fits\n",
      "[CV 1/10; 1/10] START colsample_bytree=0.3, gamma=0.1, learning_rate=0.05, max_depth=15, min_child_weight=3\n",
      "[CV 1/10; 1/10] END colsample_bytree=0.3, gamma=0.1, learning_rate=0.05, max_depth=15, min_child_weight=3;, score=0.930 total time=   0.6s\n",
      "[CV 2/10; 1/10] START colsample_bytree=0.3, gamma=0.1, learning_rate=0.05, max_depth=15, min_child_weight=3\n",
      "[CV 2/10; 1/10] END colsample_bytree=0.3, gamma=0.1, learning_rate=0.05, max_depth=15, min_child_weight=3;, score=0.930 total time=   0.4s\n",
      "[CV 3/10; 1/10] START colsample_bytree=0.3, gamma=0.1, learning_rate=0.05, max_depth=15, min_child_weight=3\n",
      "[CV 3/10; 1/10] END colsample_bytree=0.3, gamma=0.1, learning_rate=0.05, max_depth=15, min_child_weight=3;, score=0.930 total time=   0.3s\n",
      "[CV 4/10; 1/10] START colsample_bytree=0.3, gamma=0.1, learning_rate=0.05, max_depth=15, min_child_weight=3\n",
      "[CV 4/10; 1/10] END colsample_bytree=0.3, gamma=0.1, learning_rate=0.05, max_depth=15, min_child_weight=3;, score=0.928 total time=   0.5s\n",
      "[CV 5/10; 1/10] START colsample_bytree=0.3, gamma=0.1, learning_rate=0.05, max_depth=15, min_child_weight=3\n",
      "[CV 5/10; 1/10] END colsample_bytree=0.3, gamma=0.1, learning_rate=0.05, max_depth=15, min_child_weight=3;, score=0.928 total time=   0.3s\n",
      "[CV 6/10; 1/10] START colsample_bytree=0.3, gamma=0.1, learning_rate=0.05, max_depth=15, min_child_weight=3\n",
      "[CV 6/10; 1/10] END colsample_bytree=0.3, gamma=0.1, learning_rate=0.05, max_depth=15, min_child_weight=3;, score=0.929 total time=   0.5s\n",
      "[CV 7/10; 1/10] START colsample_bytree=0.3, gamma=0.1, learning_rate=0.05, max_depth=15, min_child_weight=3\n",
      "[CV 7/10; 1/10] END colsample_bytree=0.3, gamma=0.1, learning_rate=0.05, max_depth=15, min_child_weight=3;, score=0.929 total time=   0.3s\n",
      "[CV 8/10; 1/10] START colsample_bytree=0.3, gamma=0.1, learning_rate=0.05, max_depth=15, min_child_weight=3\n",
      "[CV 8/10; 1/10] END colsample_bytree=0.3, gamma=0.1, learning_rate=0.05, max_depth=15, min_child_weight=3;, score=0.929 total time=   0.4s\n",
      "[CV 9/10; 1/10] START colsample_bytree=0.3, gamma=0.1, learning_rate=0.05, max_depth=15, min_child_weight=3\n",
      "[CV 9/10; 1/10] END colsample_bytree=0.3, gamma=0.1, learning_rate=0.05, max_depth=15, min_child_weight=3;, score=0.929 total time=   0.2s\n",
      "[CV 10/10; 1/10] START colsample_bytree=0.3, gamma=0.1, learning_rate=0.05, max_depth=15, min_child_weight=3\n",
      "[CV 10/10; 1/10] END colsample_bytree=0.3, gamma=0.1, learning_rate=0.05, max_depth=15, min_child_weight=3;, score=0.929 total time=   0.3s\n",
      "[CV 1/10; 2/10] START colsample_bytree=0.3, gamma=0.4, learning_rate=0.1, max_depth=15, min_child_weight=7\n",
      "[CV 1/10; 2/10] END colsample_bytree=0.3, gamma=0.4, learning_rate=0.1, max_depth=15, min_child_weight=7;, score=0.930 total time=   0.3s\n",
      "[CV 2/10; 2/10] START colsample_bytree=0.3, gamma=0.4, learning_rate=0.1, max_depth=15, min_child_weight=7\n",
      "[CV 2/10; 2/10] END colsample_bytree=0.3, gamma=0.4, learning_rate=0.1, max_depth=15, min_child_weight=7;, score=0.930 total time=   0.3s\n",
      "[CV 3/10; 2/10] START colsample_bytree=0.3, gamma=0.4, learning_rate=0.1, max_depth=15, min_child_weight=7\n",
      "[CV 3/10; 2/10] END colsample_bytree=0.3, gamma=0.4, learning_rate=0.1, max_depth=15, min_child_weight=7;, score=0.930 total time=   0.4s\n",
      "[CV 4/10; 2/10] START colsample_bytree=0.3, gamma=0.4, learning_rate=0.1, max_depth=15, min_child_weight=7\n",
      "[CV 4/10; 2/10] END colsample_bytree=0.3, gamma=0.4, learning_rate=0.1, max_depth=15, min_child_weight=7;, score=0.928 total time=   0.2s\n",
      "[CV 5/10; 2/10] START colsample_bytree=0.3, gamma=0.4, learning_rate=0.1, max_depth=15, min_child_weight=7\n",
      "[CV 5/10; 2/10] END colsample_bytree=0.3, gamma=0.4, learning_rate=0.1, max_depth=15, min_child_weight=7;, score=0.928 total time=   0.3s\n",
      "[CV 6/10; 2/10] START colsample_bytree=0.3, gamma=0.4, learning_rate=0.1, max_depth=15, min_child_weight=7\n",
      "[CV 6/10; 2/10] END colsample_bytree=0.3, gamma=0.4, learning_rate=0.1, max_depth=15, min_child_weight=7;, score=0.929 total time=   0.3s\n",
      "[CV 7/10; 2/10] START colsample_bytree=0.3, gamma=0.4, learning_rate=0.1, max_depth=15, min_child_weight=7\n",
      "[CV 7/10; 2/10] END colsample_bytree=0.3, gamma=0.4, learning_rate=0.1, max_depth=15, min_child_weight=7;, score=0.929 total time=   0.3s\n",
      "[CV 8/10; 2/10] START colsample_bytree=0.3, gamma=0.4, learning_rate=0.1, max_depth=15, min_child_weight=7\n",
      "[CV 8/10; 2/10] END colsample_bytree=0.3, gamma=0.4, learning_rate=0.1, max_depth=15, min_child_weight=7;, score=0.929 total time=   0.3s\n",
      "[CV 9/10; 2/10] START colsample_bytree=0.3, gamma=0.4, learning_rate=0.1, max_depth=15, min_child_weight=7\n",
      "[CV 9/10; 2/10] END colsample_bytree=0.3, gamma=0.4, learning_rate=0.1, max_depth=15, min_child_weight=7;, score=0.929 total time=   0.3s\n",
      "[CV 10/10; 2/10] START colsample_bytree=0.3, gamma=0.4, learning_rate=0.1, max_depth=15, min_child_weight=7\n",
      "[CV 10/10; 2/10] END colsample_bytree=0.3, gamma=0.4, learning_rate=0.1, max_depth=15, min_child_weight=7;, score=0.929 total time=   0.3s\n",
      "[CV 1/10; 3/10] START colsample_bytree=0.5, gamma=0.2, learning_rate=0.15, max_depth=3, min_child_weight=5\n",
      "[CV 1/10; 3/10] END colsample_bytree=0.5, gamma=0.2, learning_rate=0.15, max_depth=3, min_child_weight=5;, score=0.930 total time=   0.2s\n",
      "[CV 2/10; 3/10] START colsample_bytree=0.5, gamma=0.2, learning_rate=0.15, max_depth=3, min_child_weight=5\n",
      "[CV 2/10; 3/10] END colsample_bytree=0.5, gamma=0.2, learning_rate=0.15, max_depth=3, min_child_weight=5;, score=0.930 total time=   0.2s\n",
      "[CV 3/10; 3/10] START colsample_bytree=0.5, gamma=0.2, learning_rate=0.15, max_depth=3, min_child_weight=5\n",
      "[CV 3/10; 3/10] END colsample_bytree=0.5, gamma=0.2, learning_rate=0.15, max_depth=3, min_child_weight=5;, score=0.930 total time=   0.3s\n",
      "[CV 4/10; 3/10] START colsample_bytree=0.5, gamma=0.2, learning_rate=0.15, max_depth=3, min_child_weight=5\n",
      "[CV 4/10; 3/10] END colsample_bytree=0.5, gamma=0.2, learning_rate=0.15, max_depth=3, min_child_weight=5;, score=0.928 total time=   0.4s\n",
      "[CV 5/10; 3/10] START colsample_bytree=0.5, gamma=0.2, learning_rate=0.15, max_depth=3, min_child_weight=5\n",
      "[CV 5/10; 3/10] END colsample_bytree=0.5, gamma=0.2, learning_rate=0.15, max_depth=3, min_child_weight=5;, score=0.928 total time=   0.4s\n",
      "[CV 6/10; 3/10] START colsample_bytree=0.5, gamma=0.2, learning_rate=0.15, max_depth=3, min_child_weight=5\n",
      "[CV 6/10; 3/10] END colsample_bytree=0.5, gamma=0.2, learning_rate=0.15, max_depth=3, min_child_weight=5;, score=0.929 total time=   0.2s\n",
      "[CV 7/10; 3/10] START colsample_bytree=0.5, gamma=0.2, learning_rate=0.15, max_depth=3, min_child_weight=5\n",
      "[CV 7/10; 3/10] END colsample_bytree=0.5, gamma=0.2, learning_rate=0.15, max_depth=3, min_child_weight=5;, score=0.929 total time=   0.3s\n",
      "[CV 8/10; 3/10] START colsample_bytree=0.5, gamma=0.2, learning_rate=0.15, max_depth=3, min_child_weight=5\n",
      "[CV 8/10; 3/10] END colsample_bytree=0.5, gamma=0.2, learning_rate=0.15, max_depth=3, min_child_weight=5;, score=0.929 total time=   0.2s\n",
      "[CV 9/10; 3/10] START colsample_bytree=0.5, gamma=0.2, learning_rate=0.15, max_depth=3, min_child_weight=5\n",
      "[CV 9/10; 3/10] END colsample_bytree=0.5, gamma=0.2, learning_rate=0.15, max_depth=3, min_child_weight=5;, score=0.929 total time=   0.3s\n",
      "[CV 10/10; 3/10] START colsample_bytree=0.5, gamma=0.2, learning_rate=0.15, max_depth=3, min_child_weight=5\n",
      "[CV 10/10; 3/10] END colsample_bytree=0.5, gamma=0.2, learning_rate=0.15, max_depth=3, min_child_weight=5;, score=0.929 total time=   0.2s\n",
      "[CV 1/10; 4/10] START colsample_bytree=0.4, gamma=0.0, learning_rate=0.05, max_depth=3, min_child_weight=1\n",
      "[CV 1/10; 4/10] END colsample_bytree=0.4, gamma=0.0, learning_rate=0.05, max_depth=3, min_child_weight=1;, score=0.930 total time=   0.3s\n",
      "[CV 2/10; 4/10] START colsample_bytree=0.4, gamma=0.0, learning_rate=0.05, max_depth=3, min_child_weight=1\n",
      "[CV 2/10; 4/10] END colsample_bytree=0.4, gamma=0.0, learning_rate=0.05, max_depth=3, min_child_weight=1;, score=0.930 total time=   0.2s\n",
      "[CV 3/10; 4/10] START colsample_bytree=0.4, gamma=0.0, learning_rate=0.05, max_depth=3, min_child_weight=1\n",
      "[CV 3/10; 4/10] END colsample_bytree=0.4, gamma=0.0, learning_rate=0.05, max_depth=3, min_child_weight=1;, score=0.930 total time=   0.3s\n",
      "[CV 4/10; 4/10] START colsample_bytree=0.4, gamma=0.0, learning_rate=0.05, max_depth=3, min_child_weight=1\n",
      "[CV 4/10; 4/10] END colsample_bytree=0.4, gamma=0.0, learning_rate=0.05, max_depth=3, min_child_weight=1;, score=0.928 total time=   0.2s\n",
      "[CV 5/10; 4/10] START colsample_bytree=0.4, gamma=0.0, learning_rate=0.05, max_depth=3, min_child_weight=1\n",
      "[CV 5/10; 4/10] END colsample_bytree=0.4, gamma=0.0, learning_rate=0.05, max_depth=3, min_child_weight=1;, score=0.928 total time=   0.2s\n",
      "[CV 6/10; 4/10] START colsample_bytree=0.4, gamma=0.0, learning_rate=0.05, max_depth=3, min_child_weight=1\n",
      "[CV 6/10; 4/10] END colsample_bytree=0.4, gamma=0.0, learning_rate=0.05, max_depth=3, min_child_weight=1;, score=0.929 total time=   0.2s\n",
      "[CV 7/10; 4/10] START colsample_bytree=0.4, gamma=0.0, learning_rate=0.05, max_depth=3, min_child_weight=1\n",
      "[CV 7/10; 4/10] END colsample_bytree=0.4, gamma=0.0, learning_rate=0.05, max_depth=3, min_child_weight=1;, score=0.929 total time=   0.2s\n",
      "[CV 8/10; 4/10] START colsample_bytree=0.4, gamma=0.0, learning_rate=0.05, max_depth=3, min_child_weight=1\n",
      "[CV 8/10; 4/10] END colsample_bytree=0.4, gamma=0.0, learning_rate=0.05, max_depth=3, min_child_weight=1;, score=0.929 total time=   0.3s\n",
      "[CV 9/10; 4/10] START colsample_bytree=0.4, gamma=0.0, learning_rate=0.05, max_depth=3, min_child_weight=1\n",
      "[CV 9/10; 4/10] END colsample_bytree=0.4, gamma=0.0, learning_rate=0.05, max_depth=3, min_child_weight=1;, score=0.929 total time=   0.3s\n",
      "[CV 10/10; 4/10] START colsample_bytree=0.4, gamma=0.0, learning_rate=0.05, max_depth=3, min_child_weight=1\n",
      "[CV 10/10; 4/10] END colsample_bytree=0.4, gamma=0.0, learning_rate=0.05, max_depth=3, min_child_weight=1;, score=0.929 total time=   0.2s\n",
      "[CV 1/10; 5/10] START colsample_bytree=0.7, gamma=0.3, learning_rate=0.2, max_depth=6, min_child_weight=7\n",
      "[CV 1/10; 5/10] END colsample_bytree=0.7, gamma=0.3, learning_rate=0.2, max_depth=6, min_child_weight=7;, score=0.930 total time=   0.3s\n",
      "[CV 2/10; 5/10] START colsample_bytree=0.7, gamma=0.3, learning_rate=0.2, max_depth=6, min_child_weight=7\n",
      "[CV 2/10; 5/10] END colsample_bytree=0.7, gamma=0.3, learning_rate=0.2, max_depth=6, min_child_weight=7;, score=0.930 total time=   0.3s\n",
      "[CV 3/10; 5/10] START colsample_bytree=0.7, gamma=0.3, learning_rate=0.2, max_depth=6, min_child_weight=7\n",
      "[CV 3/10; 5/10] END colsample_bytree=0.7, gamma=0.3, learning_rate=0.2, max_depth=6, min_child_weight=7;, score=0.930 total time=   0.3s\n",
      "[CV 4/10; 5/10] START colsample_bytree=0.7, gamma=0.3, learning_rate=0.2, max_depth=6, min_child_weight=7\n",
      "[CV 4/10; 5/10] END colsample_bytree=0.7, gamma=0.3, learning_rate=0.2, max_depth=6, min_child_weight=7;, score=0.928 total time=   0.3s\n",
      "[CV 5/10; 5/10] START colsample_bytree=0.7, gamma=0.3, learning_rate=0.2, max_depth=6, min_child_weight=7\n",
      "[CV 5/10; 5/10] END colsample_bytree=0.7, gamma=0.3, learning_rate=0.2, max_depth=6, min_child_weight=7;, score=0.928 total time=   0.5s\n",
      "[CV 6/10; 5/10] START colsample_bytree=0.7, gamma=0.3, learning_rate=0.2, max_depth=6, min_child_weight=7\n",
      "[CV 6/10; 5/10] END colsample_bytree=0.7, gamma=0.3, learning_rate=0.2, max_depth=6, min_child_weight=7;, score=0.929 total time=   0.4s\n",
      "[CV 7/10; 5/10] START colsample_bytree=0.7, gamma=0.3, learning_rate=0.2, max_depth=6, min_child_weight=7\n",
      "[CV 7/10; 5/10] END colsample_bytree=0.7, gamma=0.3, learning_rate=0.2, max_depth=6, min_child_weight=7;, score=0.929 total time=   0.3s\n",
      "[CV 8/10; 5/10] START colsample_bytree=0.7, gamma=0.3, learning_rate=0.2, max_depth=6, min_child_weight=7\n",
      "[CV 8/10; 5/10] END colsample_bytree=0.7, gamma=0.3, learning_rate=0.2, max_depth=6, min_child_weight=7;, score=0.929 total time=   0.4s\n",
      "[CV 9/10; 5/10] START colsample_bytree=0.7, gamma=0.3, learning_rate=0.2, max_depth=6, min_child_weight=7\n",
      "[CV 9/10; 5/10] END colsample_bytree=0.7, gamma=0.3, learning_rate=0.2, max_depth=6, min_child_weight=7;, score=0.929 total time=   0.3s\n",
      "[CV 10/10; 5/10] START colsample_bytree=0.7, gamma=0.3, learning_rate=0.2, max_depth=6, min_child_weight=7\n",
      "[CV 10/10; 5/10] END colsample_bytree=0.7, gamma=0.3, learning_rate=0.2, max_depth=6, min_child_weight=7;, score=0.929 total time=   0.3s\n",
      "[CV 1/10; 6/10] START colsample_bytree=0.7, gamma=0.0, learning_rate=0.15, max_depth=10, min_child_weight=1\n",
      "[CV 1/10; 6/10] END colsample_bytree=0.7, gamma=0.0, learning_rate=0.15, max_depth=10, min_child_weight=1;, score=0.926 total time=   0.4s\n",
      "[CV 2/10; 6/10] START colsample_bytree=0.7, gamma=0.0, learning_rate=0.15, max_depth=10, min_child_weight=1\n",
      "[CV 2/10; 6/10] END colsample_bytree=0.7, gamma=0.0, learning_rate=0.15, max_depth=10, min_child_weight=1;, score=0.926 total time=   0.4s\n",
      "[CV 3/10; 6/10] START colsample_bytree=0.7, gamma=0.0, learning_rate=0.15, max_depth=10, min_child_weight=1\n",
      "[CV 3/10; 6/10] END colsample_bytree=0.7, gamma=0.0, learning_rate=0.15, max_depth=10, min_child_weight=1;, score=0.930 total time=   0.3s\n",
      "[CV 4/10; 6/10] START colsample_bytree=0.7, gamma=0.0, learning_rate=0.15, max_depth=10, min_child_weight=1\n",
      "[CV 4/10; 6/10] END colsample_bytree=0.7, gamma=0.0, learning_rate=0.15, max_depth=10, min_child_weight=1;, score=0.926 total time=   0.3s\n",
      "[CV 5/10; 6/10] START colsample_bytree=0.7, gamma=0.0, learning_rate=0.15, max_depth=10, min_child_weight=1\n",
      "[CV 5/10; 6/10] END colsample_bytree=0.7, gamma=0.0, learning_rate=0.15, max_depth=10, min_child_weight=1;, score=0.928 total time=   0.5s\n",
      "[CV 6/10; 6/10] START colsample_bytree=0.7, gamma=0.0, learning_rate=0.15, max_depth=10, min_child_weight=1\n",
      "[CV 6/10; 6/10] END colsample_bytree=0.7, gamma=0.0, learning_rate=0.15, max_depth=10, min_child_weight=1;, score=0.928 total time=   0.4s\n",
      "[CV 7/10; 6/10] START colsample_bytree=0.7, gamma=0.0, learning_rate=0.15, max_depth=10, min_child_weight=1\n",
      "[CV 7/10; 6/10] END colsample_bytree=0.7, gamma=0.0, learning_rate=0.15, max_depth=10, min_child_weight=1;, score=0.928 total time=   0.5s\n",
      "[CV 8/10; 6/10] START colsample_bytree=0.7, gamma=0.0, learning_rate=0.15, max_depth=10, min_child_weight=1\n",
      "[CV 8/10; 6/10] END colsample_bytree=0.7, gamma=0.0, learning_rate=0.15, max_depth=10, min_child_weight=1;, score=0.928 total time=   0.4s\n",
      "[CV 9/10; 6/10] START colsample_bytree=0.7, gamma=0.0, learning_rate=0.15, max_depth=10, min_child_weight=1\n",
      "[CV 9/10; 6/10] END colsample_bytree=0.7, gamma=0.0, learning_rate=0.15, max_depth=10, min_child_weight=1;, score=0.929 total time=   0.3s\n",
      "[CV 10/10; 6/10] START colsample_bytree=0.7, gamma=0.0, learning_rate=0.15, max_depth=10, min_child_weight=1\n",
      "[CV 10/10; 6/10] END colsample_bytree=0.7, gamma=0.0, learning_rate=0.15, max_depth=10, min_child_weight=1;, score=0.923 total time=   0.3s\n",
      "[CV 1/10; 7/10] START colsample_bytree=0.5, gamma=0.4, learning_rate=0.15, max_depth=12, min_child_weight=1\n",
      "[CV 1/10; 7/10] END colsample_bytree=0.5, gamma=0.4, learning_rate=0.15, max_depth=12, min_child_weight=1;, score=0.928 total time=   0.4s\n",
      "[CV 2/10; 7/10] START colsample_bytree=0.5, gamma=0.4, learning_rate=0.15, max_depth=12, min_child_weight=1\n",
      "[CV 2/10; 7/10] END colsample_bytree=0.5, gamma=0.4, learning_rate=0.15, max_depth=12, min_child_weight=1;, score=0.930 total time=   0.4s\n",
      "[CV 3/10; 7/10] START colsample_bytree=0.5, gamma=0.4, learning_rate=0.15, max_depth=12, min_child_weight=1\n",
      "[CV 3/10; 7/10] END colsample_bytree=0.5, gamma=0.4, learning_rate=0.15, max_depth=12, min_child_weight=1;, score=0.930 total time=   0.4s\n",
      "[CV 4/10; 7/10] START colsample_bytree=0.5, gamma=0.4, learning_rate=0.15, max_depth=12, min_child_weight=1\n",
      "[CV 4/10; 7/10] END colsample_bytree=0.5, gamma=0.4, learning_rate=0.15, max_depth=12, min_child_weight=1;, score=0.928 total time=   0.3s\n",
      "[CV 5/10; 7/10] START colsample_bytree=0.5, gamma=0.4, learning_rate=0.15, max_depth=12, min_child_weight=1\n",
      "[CV 5/10; 7/10] END colsample_bytree=0.5, gamma=0.4, learning_rate=0.15, max_depth=12, min_child_weight=1;, score=0.928 total time=   0.4s\n",
      "[CV 6/10; 7/10] START colsample_bytree=0.5, gamma=0.4, learning_rate=0.15, max_depth=12, min_child_weight=1\n",
      "[CV 6/10; 7/10] END colsample_bytree=0.5, gamma=0.4, learning_rate=0.15, max_depth=12, min_child_weight=1;, score=0.929 total time=   0.4s\n",
      "[CV 7/10; 7/10] START colsample_bytree=0.5, gamma=0.4, learning_rate=0.15, max_depth=12, min_child_weight=1\n",
      "[CV 7/10; 7/10] END colsample_bytree=0.5, gamma=0.4, learning_rate=0.15, max_depth=12, min_child_weight=1;, score=0.928 total time=   0.4s\n",
      "[CV 8/10; 7/10] START colsample_bytree=0.5, gamma=0.4, learning_rate=0.15, max_depth=12, min_child_weight=1\n",
      "[CV 8/10; 7/10] END colsample_bytree=0.5, gamma=0.4, learning_rate=0.15, max_depth=12, min_child_weight=1;, score=0.929 total time=   0.4s\n",
      "[CV 9/10; 7/10] START colsample_bytree=0.5, gamma=0.4, learning_rate=0.15, max_depth=12, min_child_weight=1\n",
      "[CV 9/10; 7/10] END colsample_bytree=0.5, gamma=0.4, learning_rate=0.15, max_depth=12, min_child_weight=1;, score=0.929 total time=   0.4s\n",
      "[CV 10/10; 7/10] START colsample_bytree=0.5, gamma=0.4, learning_rate=0.15, max_depth=12, min_child_weight=1\n",
      "[CV 10/10; 7/10] END colsample_bytree=0.5, gamma=0.4, learning_rate=0.15, max_depth=12, min_child_weight=1;, score=0.928 total time=   0.6s\n",
      "[CV 1/10; 8/10] START colsample_bytree=0.7, gamma=0.2, learning_rate=0.1, max_depth=5, min_child_weight=3\n",
      "[CV 1/10; 8/10] END colsample_bytree=0.7, gamma=0.2, learning_rate=0.1, max_depth=5, min_child_weight=3;, score=0.930 total time=   0.6s\n",
      "[CV 2/10; 8/10] START colsample_bytree=0.7, gamma=0.2, learning_rate=0.1, max_depth=5, min_child_weight=3\n",
      "[CV 2/10; 8/10] END colsample_bytree=0.7, gamma=0.2, learning_rate=0.1, max_depth=5, min_child_weight=3;, score=0.930 total time=   0.4s\n",
      "[CV 3/10; 8/10] START colsample_bytree=0.7, gamma=0.2, learning_rate=0.1, max_depth=5, min_child_weight=3\n",
      "[CV 3/10; 8/10] END colsample_bytree=0.7, gamma=0.2, learning_rate=0.1, max_depth=5, min_child_weight=3;, score=0.930 total time=   0.4s\n",
      "[CV 4/10; 8/10] START colsample_bytree=0.7, gamma=0.2, learning_rate=0.1, max_depth=5, min_child_weight=3\n",
      "[CV 4/10; 8/10] END colsample_bytree=0.7, gamma=0.2, learning_rate=0.1, max_depth=5, min_child_weight=3;, score=0.928 total time=   0.3s\n",
      "[CV 5/10; 8/10] START colsample_bytree=0.7, gamma=0.2, learning_rate=0.1, max_depth=5, min_child_weight=3\n",
      "[CV 5/10; 8/10] END colsample_bytree=0.7, gamma=0.2, learning_rate=0.1, max_depth=5, min_child_weight=3;, score=0.928 total time=   0.3s\n",
      "[CV 6/10; 8/10] START colsample_bytree=0.7, gamma=0.2, learning_rate=0.1, max_depth=5, min_child_weight=3\n",
      "[CV 6/10; 8/10] END colsample_bytree=0.7, gamma=0.2, learning_rate=0.1, max_depth=5, min_child_weight=3;, score=0.929 total time=   0.3s\n",
      "[CV 7/10; 8/10] START colsample_bytree=0.7, gamma=0.2, learning_rate=0.1, max_depth=5, min_child_weight=3\n",
      "[CV 7/10; 8/10] END colsample_bytree=0.7, gamma=0.2, learning_rate=0.1, max_depth=5, min_child_weight=3;, score=0.929 total time=   0.6s\n",
      "[CV 8/10; 8/10] START colsample_bytree=0.7, gamma=0.2, learning_rate=0.1, max_depth=5, min_child_weight=3\n",
      "[CV 8/10; 8/10] END colsample_bytree=0.7, gamma=0.2, learning_rate=0.1, max_depth=5, min_child_weight=3;, score=0.929 total time=   0.3s\n",
      "[CV 9/10; 8/10] START colsample_bytree=0.7, gamma=0.2, learning_rate=0.1, max_depth=5, min_child_weight=3\n",
      "[CV 9/10; 8/10] END colsample_bytree=0.7, gamma=0.2, learning_rate=0.1, max_depth=5, min_child_weight=3;, score=0.929 total time=   0.3s\n",
      "[CV 10/10; 8/10] START colsample_bytree=0.7, gamma=0.2, learning_rate=0.1, max_depth=5, min_child_weight=3\n",
      "[CV 10/10; 8/10] END colsample_bytree=0.7, gamma=0.2, learning_rate=0.1, max_depth=5, min_child_weight=3;, score=0.929 total time=   0.3s\n",
      "[CV 1/10; 9/10] START colsample_bytree=0.5, gamma=0.1, learning_rate=0.1, max_depth=8, min_child_weight=7\n",
      "[CV 1/10; 9/10] END colsample_bytree=0.5, gamma=0.1, learning_rate=0.1, max_depth=8, min_child_weight=7;, score=0.930 total time=   0.3s\n",
      "[CV 2/10; 9/10] START colsample_bytree=0.5, gamma=0.1, learning_rate=0.1, max_depth=8, min_child_weight=7\n",
      "[CV 2/10; 9/10] END colsample_bytree=0.5, gamma=0.1, learning_rate=0.1, max_depth=8, min_child_weight=7;, score=0.930 total time=   0.5s\n",
      "[CV 3/10; 9/10] START colsample_bytree=0.5, gamma=0.1, learning_rate=0.1, max_depth=8, min_child_weight=7\n",
      "[CV 3/10; 9/10] END colsample_bytree=0.5, gamma=0.1, learning_rate=0.1, max_depth=8, min_child_weight=7;, score=0.930 total time=   0.7s\n",
      "[CV 4/10; 9/10] START colsample_bytree=0.5, gamma=0.1, learning_rate=0.1, max_depth=8, min_child_weight=7\n",
      "[CV 4/10; 9/10] END colsample_bytree=0.5, gamma=0.1, learning_rate=0.1, max_depth=8, min_child_weight=7;, score=0.928 total time=   0.5s\n",
      "[CV 5/10; 9/10] START colsample_bytree=0.5, gamma=0.1, learning_rate=0.1, max_depth=8, min_child_weight=7\n",
      "[CV 5/10; 9/10] END colsample_bytree=0.5, gamma=0.1, learning_rate=0.1, max_depth=8, min_child_weight=7;, score=0.928 total time=   0.3s\n",
      "[CV 6/10; 9/10] START colsample_bytree=0.5, gamma=0.1, learning_rate=0.1, max_depth=8, min_child_weight=7\n",
      "[CV 6/10; 9/10] END colsample_bytree=0.5, gamma=0.1, learning_rate=0.1, max_depth=8, min_child_weight=7;, score=0.929 total time=   0.3s\n",
      "[CV 7/10; 9/10] START colsample_bytree=0.5, gamma=0.1, learning_rate=0.1, max_depth=8, min_child_weight=7\n",
      "[CV 7/10; 9/10] END colsample_bytree=0.5, gamma=0.1, learning_rate=0.1, max_depth=8, min_child_weight=7;, score=0.929 total time=   0.3s\n",
      "[CV 8/10; 9/10] START colsample_bytree=0.5, gamma=0.1, learning_rate=0.1, max_depth=8, min_child_weight=7\n",
      "[CV 8/10; 9/10] END colsample_bytree=0.5, gamma=0.1, learning_rate=0.1, max_depth=8, min_child_weight=7;, score=0.929 total time=   0.3s\n",
      "[CV 9/10; 9/10] START colsample_bytree=0.5, gamma=0.1, learning_rate=0.1, max_depth=8, min_child_weight=7\n",
      "[CV 9/10; 9/10] END colsample_bytree=0.5, gamma=0.1, learning_rate=0.1, max_depth=8, min_child_weight=7;, score=0.929 total time=   0.3s\n",
      "[CV 10/10; 9/10] START colsample_bytree=0.5, gamma=0.1, learning_rate=0.1, max_depth=8, min_child_weight=7\n",
      "[CV 10/10; 9/10] END colsample_bytree=0.5, gamma=0.1, learning_rate=0.1, max_depth=8, min_child_weight=7;, score=0.929 total time=   0.3s\n",
      "[CV 1/10; 10/10] START colsample_bytree=0.4, gamma=0.2, learning_rate=0.15, max_depth=8, min_child_weight=7\n",
      "[CV 1/10; 10/10] END colsample_bytree=0.4, gamma=0.2, learning_rate=0.15, max_depth=8, min_child_weight=7;, score=0.930 total time=   1.1s\n",
      "[CV 2/10; 10/10] START colsample_bytree=0.4, gamma=0.2, learning_rate=0.15, max_depth=8, min_child_weight=7\n",
      "[CV 2/10; 10/10] END colsample_bytree=0.4, gamma=0.2, learning_rate=0.15, max_depth=8, min_child_weight=7;, score=0.930 total time=   0.7s\n",
      "[CV 3/10; 10/10] START colsample_bytree=0.4, gamma=0.2, learning_rate=0.15, max_depth=8, min_child_weight=7\n",
      "[CV 3/10; 10/10] END colsample_bytree=0.4, gamma=0.2, learning_rate=0.15, max_depth=8, min_child_weight=7;, score=0.930 total time=   0.3s\n",
      "[CV 4/10; 10/10] START colsample_bytree=0.4, gamma=0.2, learning_rate=0.15, max_depth=8, min_child_weight=7\n",
      "[CV 4/10; 10/10] END colsample_bytree=0.4, gamma=0.2, learning_rate=0.15, max_depth=8, min_child_weight=7;, score=0.928 total time=   0.3s\n",
      "[CV 5/10; 10/10] START colsample_bytree=0.4, gamma=0.2, learning_rate=0.15, max_depth=8, min_child_weight=7\n",
      "[CV 5/10; 10/10] END colsample_bytree=0.4, gamma=0.2, learning_rate=0.15, max_depth=8, min_child_weight=7;, score=0.928 total time=   0.4s\n",
      "[CV 6/10; 10/10] START colsample_bytree=0.4, gamma=0.2, learning_rate=0.15, max_depth=8, min_child_weight=7\n",
      "[CV 6/10; 10/10] END colsample_bytree=0.4, gamma=0.2, learning_rate=0.15, max_depth=8, min_child_weight=7;, score=0.929 total time=   0.3s\n",
      "[CV 7/10; 10/10] START colsample_bytree=0.4, gamma=0.2, learning_rate=0.15, max_depth=8, min_child_weight=7\n",
      "[CV 7/10; 10/10] END colsample_bytree=0.4, gamma=0.2, learning_rate=0.15, max_depth=8, min_child_weight=7;, score=0.929 total time=   0.3s\n",
      "[CV 8/10; 10/10] START colsample_bytree=0.4, gamma=0.2, learning_rate=0.15, max_depth=8, min_child_weight=7\n",
      "[CV 8/10; 10/10] END colsample_bytree=0.4, gamma=0.2, learning_rate=0.15, max_depth=8, min_child_weight=7;, score=0.929 total time=   0.3s\n",
      "[CV 9/10; 10/10] START colsample_bytree=0.4, gamma=0.2, learning_rate=0.15, max_depth=8, min_child_weight=7\n",
      "[CV 9/10; 10/10] END colsample_bytree=0.4, gamma=0.2, learning_rate=0.15, max_depth=8, min_child_weight=7;, score=0.929 total time=   0.3s\n",
      "[CV 10/10; 10/10] START colsample_bytree=0.4, gamma=0.2, learning_rate=0.15, max_depth=8, min_child_weight=7\n",
      "[CV 10/10; 10/10] END colsample_bytree=0.4, gamma=0.2, learning_rate=0.15, max_depth=8, min_child_weight=7;, score=0.929 total time=   0.3s\n"
     ]
    },
    {
     "data": {
      "text/plain": [
       "RandomizedSearchCV(cv=10,\n",
       "                   estimator=XGBClassifier(base_score=None, booster=None,\n",
       "                                           callbacks=None,\n",
       "                                           colsample_bylevel=None,\n",
       "                                           colsample_bynode=None,\n",
       "                                           colsample_bytree=None,\n",
       "                                           early_stopping_rounds=None,\n",
       "                                           enable_categorical=False,\n",
       "                                           eval_metric=None, gamma=None,\n",
       "                                           gpu_id=None, grow_policy=None,\n",
       "                                           importance_type=None,\n",
       "                                           interaction_constraints=None,\n",
       "                                           learning_rate=None, max_bin=None...\n",
       "                                           monotone_constraints=None,\n",
       "                                           n_estimators=100, n_jobs=None,\n",
       "                                           num_parallel_tree=None,\n",
       "                                           predictor=None, random_state=None,\n",
       "                                           reg_alpha=None, reg_lambda=None, ...),\n",
       "                   param_distributions={'colsample_bytree': [0.3, 0.4, 0.5,\n",
       "                                                             0.7],\n",
       "                                        'gamma': [0.0, 0.1, 0.2, 0.3, 0.4],\n",
       "                                        'learning_rate': [0.05, 0.1, 0.15, 0.2,\n",
       "                                                          0.25, 0.3],\n",
       "                                        'max_depth': [3, 4, 5, 6, 8, 10, 12,\n",
       "                                                      15],\n",
       "                                        'min_child_weight': [1, 3, 5, 7]},\n",
       "                   scoring='accuracy', verbose=10)"
      ]
     },
     "execution_count": 50,
     "metadata": {},
     "output_type": "execute_result"
    }
   ],
   "source": [
    "from xgboost import XGBClassifier\n",
    "clf_xgb =XGBClassifier(objective='binary:logistic',seed=42)\n",
    "random_search=RandomizedSearchCV(clf_xgb,param_distributions=xgb_params,scoring=\"accuracy\",cv=10,verbose=10)\n",
    "random_search.fit(X_train,y_train)"
   ]
  },
  {
   "cell_type": "code",
   "execution_count": 51,
   "metadata": {},
   "outputs": [
    {
     "data": {
      "text/plain": [
       "XGBClassifier(base_score=0.5, booster='gbtree', callbacks=None,\n",
       "              colsample_bylevel=1, colsample_bynode=1, colsample_bytree=0.3,\n",
       "              early_stopping_rounds=None, enable_categorical=False,\n",
       "              eval_metric=None, gamma=0.1, gpu_id=-1, grow_policy='depthwise',\n",
       "              importance_type=None, interaction_constraints='',\n",
       "              learning_rate=0.05, max_bin=256, max_cat_to_onehot=4,\n",
       "              max_delta_step=0, max_depth=15, max_leaves=0, min_child_weight=3,\n",
       "              missing=nan, monotone_constraints='()', n_estimators=100,\n",
       "              n_jobs=0, num_parallel_tree=1, predictor='auto', random_state=42,\n",
       "              reg_alpha=0, reg_lambda=1, ...)"
      ]
     },
     "execution_count": 51,
     "metadata": {},
     "output_type": "execute_result"
    }
   ],
   "source": [
    "random_search.best_estimator_"
   ]
  },
  {
   "cell_type": "code",
   "execution_count": 52,
   "metadata": {
    "scrolled": true
   },
   "outputs": [],
   "source": [
    "xg=XGBClassifier(colsample_bylevel=1, colsample_bytree=0.4,\n",
    "              gamma=0.3, gpu_id=-1, learning_rate=0.25, max_bin=256, max_cat_to_onehot=4,\n",
    "              max_delta_step=0, max_depth=5, max_leaves=0, min_child_weight=7,\n",
    "              n_estimators=100)"
   ]
  },
  {
   "cell_type": "code",
   "execution_count": 53,
   "metadata": {},
   "outputs": [
    {
     "data": {
      "text/plain": [
       "XGBClassifier(base_score=0.5, booster='gbtree', callbacks=None,\n",
       "              colsample_bylevel=1, colsample_bynode=1, colsample_bytree=0.4,\n",
       "              early_stopping_rounds=None, enable_categorical=False,\n",
       "              eval_metric=None, gamma=0.3, gpu_id=-1, grow_policy='depthwise',\n",
       "              importance_type=None, interaction_constraints='',\n",
       "              learning_rate=0.25, max_bin=256, max_cat_to_onehot=4,\n",
       "              max_delta_step=0, max_depth=5, max_leaves=0, min_child_weight=7,\n",
       "              missing=nan, monotone_constraints='()', n_estimators=100,\n",
       "              n_jobs=0, num_parallel_tree=1, predictor='auto', random_state=0,\n",
       "              reg_alpha=0, reg_lambda=1, ...)"
      ]
     },
     "execution_count": 53,
     "metadata": {},
     "output_type": "execute_result"
    }
   ],
   "source": [
    "xg.fit(X_train,y_train)"
   ]
  },
  {
   "cell_type": "code",
   "execution_count": 56,
   "metadata": {},
   "outputs": [],
   "source": [
    "from xgboost import XGBClassifier\n",
    "final_xgb=XGBClassifier(objective='binary:logistic',seed=42,colsample_bytree=0.3, gamma=0.1,learning_rate=0.05,max_depth=15,min_child_weight=3)"
   ]
  },
  {
   "cell_type": "code",
   "execution_count": 60,
   "metadata": {},
   "outputs": [
    {
     "name": "stdout",
     "output_type": "stream",
     "text": [
      "[0]\tvalidation_0-logloss:0.65725\tvalidation_0-auc:0.52439\tvalidation_1-logloss:0.65734\tvalidation_1-auc:0.52149\n",
      "[1]\tvalidation_0-logloss:0.62478\tvalidation_0-auc:0.52439\tvalidation_1-logloss:0.62495\tvalidation_1-auc:0.52149\n",
      "[2]\tvalidation_0-logloss:0.59533\tvalidation_0-auc:0.52439\tvalidation_1-logloss:0.59555\tvalidation_1-auc:0.52149\n",
      "[3]\tvalidation_0-logloss:0.56850\tvalidation_0-auc:0.52731\tvalidation_1-logloss:0.56882\tvalidation_1-auc:0.51929\n",
      "[4]\tvalidation_0-logloss:0.54403\tvalidation_0-auc:0.52731\tvalidation_1-logloss:0.54439\tvalidation_1-auc:0.51929\n",
      "[5]\tvalidation_0-logloss:0.52165\tvalidation_0-auc:0.52731\tvalidation_1-logloss:0.52206\tvalidation_1-auc:0.51929\n",
      "[6]\tvalidation_0-logloss:0.50113\tvalidation_0-auc:0.52731\tvalidation_1-logloss:0.50162\tvalidation_1-auc:0.51929\n",
      "[7]\tvalidation_0-logloss:0.48226\tvalidation_0-auc:0.55536\tvalidation_1-logloss:0.48287\tvalidation_1-auc:0.53734\n",
      "[8]\tvalidation_0-logloss:0.46491\tvalidation_0-auc:0.55536\tvalidation_1-logloss:0.46564\tvalidation_1-auc:0.53734\n",
      "[9]\tvalidation_0-logloss:0.44897\tvalidation_0-auc:0.55536\tvalidation_1-logloss:0.44973\tvalidation_1-auc:0.53734\n",
      "[10]\tvalidation_0-logloss:0.43427\tvalidation_0-auc:0.55536\tvalidation_1-logloss:0.43507\tvalidation_1-auc:0.53734\n",
      "[11]\tvalidation_0-logloss:0.42072\tvalidation_0-auc:0.55536\tvalidation_1-logloss:0.42154\tvalidation_1-auc:0.53734\n",
      "[12]\tvalidation_0-logloss:0.40821\tvalidation_0-auc:0.55536\tvalidation_1-logloss:0.40906\tvalidation_1-auc:0.53734\n",
      "[13]\tvalidation_0-logloss:0.39664\tvalidation_0-auc:0.56803\tvalidation_1-logloss:0.39754\tvalidation_1-auc:0.52822\n",
      "[14]\tvalidation_0-logloss:0.38595\tvalidation_0-auc:0.56803\tvalidation_1-logloss:0.38688\tvalidation_1-auc:0.52822\n",
      "[15]\tvalidation_0-logloss:0.37601\tvalidation_0-auc:0.56803\tvalidation_1-logloss:0.37703\tvalidation_1-auc:0.52822\n",
      "[16]\tvalidation_0-logloss:0.36685\tvalidation_0-auc:0.56803\tvalidation_1-logloss:0.36792\tvalidation_1-auc:0.52822\n",
      "[17]\tvalidation_0-logloss:0.35838\tvalidation_0-auc:0.56803\tvalidation_1-logloss:0.35947\tvalidation_1-auc:0.52822\n",
      "[18]\tvalidation_0-logloss:0.35054\tvalidation_0-auc:0.56803\tvalidation_1-logloss:0.35166\tvalidation_1-auc:0.52822\n",
      "[19]\tvalidation_0-logloss:0.34328\tvalidation_0-auc:0.56803\tvalidation_1-logloss:0.34442\tvalidation_1-auc:0.52822\n",
      "[20]\tvalidation_0-logloss:0.33655\tvalidation_0-auc:0.56803\tvalidation_1-logloss:0.33771\tvalidation_1-auc:0.52822\n",
      "[21]\tvalidation_0-logloss:0.33030\tvalidation_0-auc:0.59219\tvalidation_1-logloss:0.33151\tvalidation_1-auc:0.54615\n",
      "[22]\tvalidation_0-logloss:0.32444\tvalidation_0-auc:0.58761\tvalidation_1-logloss:0.32574\tvalidation_1-auc:0.54288\n",
      "[23]\tvalidation_0-logloss:0.31907\tvalidation_0-auc:0.59357\tvalidation_1-logloss:0.32041\tvalidation_1-auc:0.54417\n",
      "[24]\tvalidation_0-logloss:0.31399\tvalidation_0-auc:0.60200\tvalidation_1-logloss:0.31549\tvalidation_1-auc:0.53334\n",
      "[25]\tvalidation_0-logloss:0.30928\tvalidation_0-auc:0.60461\tvalidation_1-logloss:0.31094\tvalidation_1-auc:0.52392\n",
      "[26]\tvalidation_0-logloss:0.30502\tvalidation_0-auc:0.60795\tvalidation_1-logloss:0.30670\tvalidation_1-auc:0.52580\n",
      "[27]\tvalidation_0-logloss:0.30096\tvalidation_0-auc:0.60746\tvalidation_1-logloss:0.30280\tvalidation_1-auc:0.52493\n",
      "[28]\tvalidation_0-logloss:0.29727\tvalidation_0-auc:0.61025\tvalidation_1-logloss:0.29919\tvalidation_1-auc:0.51968\n",
      "[29]\tvalidation_0-logloss:0.29389\tvalidation_0-auc:0.61070\tvalidation_1-logloss:0.29582\tvalidation_1-auc:0.52180\n",
      "[30]\tvalidation_0-logloss:0.29071\tvalidation_0-auc:0.61125\tvalidation_1-logloss:0.29271\tvalidation_1-auc:0.52243\n",
      "[31]\tvalidation_0-logloss:0.28777\tvalidation_0-auc:0.61126\tvalidation_1-logloss:0.28983\tvalidation_1-auc:0.52614\n",
      "[32]\tvalidation_0-logloss:0.28508\tvalidation_0-auc:0.61452\tvalidation_1-logloss:0.28718\tvalidation_1-auc:0.52670\n",
      "[33]\tvalidation_0-logloss:0.28255\tvalidation_0-auc:0.61359\tvalidation_1-logloss:0.28472\tvalidation_1-auc:0.52823\n",
      "[34]\tvalidation_0-logloss:0.28010\tvalidation_0-auc:0.61754\tvalidation_1-logloss:0.28243\tvalidation_1-auc:0.53012\n",
      "[35]\tvalidation_0-logloss:0.27793\tvalidation_0-auc:0.61719\tvalidation_1-logloss:0.28032\tvalidation_1-auc:0.53116\n",
      "[36]\tvalidation_0-logloss:0.27582\tvalidation_0-auc:0.61883\tvalidation_1-logloss:0.27836\tvalidation_1-auc:0.53072\n",
      "[37]\tvalidation_0-logloss:0.27401\tvalidation_0-auc:0.61977\tvalidation_1-logloss:0.27656\tvalidation_1-auc:0.53401\n",
      "[38]\tvalidation_0-logloss:0.27234\tvalidation_0-auc:0.62123\tvalidation_1-logloss:0.27490\tvalidation_1-auc:0.53883\n",
      "[39]\tvalidation_0-logloss:0.27075\tvalidation_0-auc:0.62106\tvalidation_1-logloss:0.27337\tvalidation_1-auc:0.53829\n",
      "[40]\tvalidation_0-logloss:0.26916\tvalidation_0-auc:0.62147\tvalidation_1-logloss:0.27195\tvalidation_1-auc:0.53908\n",
      "[41]\tvalidation_0-logloss:0.26781\tvalidation_0-auc:0.62149\tvalidation_1-logloss:0.27064\tvalidation_1-auc:0.53731\n",
      "[42]\tvalidation_0-logloss:0.26658\tvalidation_0-auc:0.62258\tvalidation_1-logloss:0.26947\tvalidation_1-auc:0.53188\n",
      "[43]\tvalidation_0-logloss:0.26547\tvalidation_0-auc:0.62273\tvalidation_1-logloss:0.26836\tvalidation_1-auc:0.53575\n",
      "[44]\tvalidation_0-logloss:0.26426\tvalidation_0-auc:0.62630\tvalidation_1-logloss:0.26732\tvalidation_1-auc:0.53765\n",
      "[45]\tvalidation_0-logloss:0.26327\tvalidation_0-auc:0.62564\tvalidation_1-logloss:0.26637\tvalidation_1-auc:0.53658\n",
      "[46]\tvalidation_0-logloss:0.26234\tvalidation_0-auc:0.62791\tvalidation_1-logloss:0.26556\tvalidation_1-auc:0.53997\n",
      "[47]\tvalidation_0-logloss:0.26152\tvalidation_0-auc:0.62891\tvalidation_1-logloss:0.26479\tvalidation_1-auc:0.53634\n",
      "[48]\tvalidation_0-logloss:0.26074\tvalidation_0-auc:0.62794\tvalidation_1-logloss:0.26406\tvalidation_1-auc:0.53559\n",
      "[49]\tvalidation_0-logloss:0.26001\tvalidation_0-auc:0.62718\tvalidation_1-logloss:0.26339\tvalidation_1-auc:0.53423\n",
      "[50]\tvalidation_0-logloss:0.25933\tvalidation_0-auc:0.62771\tvalidation_1-logloss:0.26284\tvalidation_1-auc:0.52807\n"
     ]
    },
    {
     "data": {
      "text/plain": [
       "XGBClassifier(base_score=0.5, booster='gbtree', callbacks=None,\n",
       "              colsample_bylevel=1, colsample_bynode=1, colsample_bytree=0.3,\n",
       "              early_stopping_rounds=None, enable_categorical=False,\n",
       "              eval_metric=None, gamma=0.1, gpu_id=-1, grow_policy='depthwise',\n",
       "              importance_type=None, interaction_constraints='',\n",
       "              learning_rate=0.05, max_bin=256, max_cat_to_onehot=4,\n",
       "              max_delta_step=0, max_depth=15, max_leaves=0, min_child_weight=3,\n",
       "              missing=nan, monotone_constraints='()', n_estimators=100,\n",
       "              n_jobs=0, num_parallel_tree=1, predictor='auto', random_state=42,\n",
       "              reg_alpha=0, reg_lambda=1, ...)"
      ]
     },
     "execution_count": 60,
     "metadata": {},
     "output_type": "execute_result"
    }
   ],
   "source": [
    "final_xgb.fit(X_train,y_train,\n",
    "        eval_set=[(X_train,y_train),(X_valid,y_valid)],\n",
    "        eval_metric=['logloss','auc'],\n",
    "        early_stopping_rounds=30,\n",
    "        verbose=True)"
   ]
  },
  {
   "cell_type": "code",
   "execution_count": null,
   "metadata": {},
   "outputs": [],
   "source": []
  }
 ],
 "metadata": {
  "kernelspec": {
   "display_name": "Python 3 (ipykernel)",
   "language": "python",
   "name": "python3"
  },
  "language_info": {
   "codemirror_mode": {
    "name": "ipython",
    "version": 3
   },
   "file_extension": ".py",
   "mimetype": "text/x-python",
   "name": "python",
   "nbconvert_exporter": "python",
   "pygments_lexer": "ipython3",
   "version": "3.9.7"
  },
  "vscode": {
   "interpreter": {
    "hash": "ad2bdc8ecc057115af97d19610ffacc2b4e99fae6737bb82f5d7fb13d2f2c186"
   }
  }
 },
 "nbformat": 4,
 "nbformat_minor": 2
}
