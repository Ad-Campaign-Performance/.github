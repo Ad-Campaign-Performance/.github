{
 "cells": [
  {
   "cell_type": "code",
   "execution_count": 1,
   "metadata": {},
   "outputs": [],
   "source": [
    "import os\n",
    "import sys\n",
    "import warnings\n",
    "import pandas as pd\n",
    "import numpy as np\n",
    "from sklearn.metrics import mean_squared_error, mean_absolute_error, r2_score\n",
    "from sklearn.model_selection import train_test_split\n",
    "from sklearn.linear_model import ElasticNet, LogisticRegression\n",
    "from fast_ml.model_development import train_valid_test_split\n",
    "import mlflow\n",
    "import mlflow.sklearn\n",
    "import logging\n",
    "import matplotlib.pyplot as plt\n",
    "\n",
    "\n",
    "import dvc.api\n"
   ]
  },
  {
   "cell_type": "code",
   "execution_count": 2,
   "metadata": {},
   "outputs": [],
   "source": [
    "import warnings\n",
    "warnings.filterwarnings('ignore')"
   ]
  },
  {
   "cell_type": "code",
   "execution_count": 3,
   "metadata": {},
   "outputs": [],
   "source": [
    "sys.path.append(os.path.abspath(os.path.join('../scripts')))"
   ]
  },
  {
   "cell_type": "code",
   "execution_count": 4,
   "metadata": {},
   "outputs": [],
   "source": [
    "from data_prep import Clean_df"
   ]
  },
  {
   "cell_type": "code",
   "execution_count": 5,
   "metadata": {},
   "outputs": [],
   "source": [
    "df = pd.read_csv('../data/AdSmartABdata.csv')\n",
    "\n"
   ]
  },
  {
   "cell_type": "code",
   "execution_count": 6,
   "metadata": {},
   "outputs": [],
   "source": [
    "clean_df = Clean_df()\n"
   ]
  },
  {
   "cell_type": "code",
   "execution_count": 7,
   "metadata": {},
   "outputs": [],
   "source": [
    "df_clean = clean_df.pipeline(df)"
   ]
  },
  {
   "cell_type": "code",
   "execution_count": 8,
   "metadata": {},
   "outputs": [
    {
     "data": {
      "text/html": [
       "<div>\n",
       "<style scoped>\n",
       "    .dataframe tbody tr th:only-of-type {\n",
       "        vertical-align: middle;\n",
       "    }\n",
       "\n",
       "    .dataframe tbody tr th {\n",
       "        vertical-align: top;\n",
       "    }\n",
       "\n",
       "    .dataframe thead th {\n",
       "        text-align: right;\n",
       "    }\n",
       "</style>\n",
       "<table border=\"1\" class=\"dataframe\">\n",
       "  <thead>\n",
       "    <tr style=\"text-align: right;\">\n",
       "      <th></th>\n",
       "      <th>platform_os</th>\n",
       "      <th>hour</th>\n",
       "      <th>device_make_Unknown</th>\n",
       "      <th>device_make_htc</th>\n",
       "      <th>device_make_huawei</th>\n",
       "      <th>device_make_iphone</th>\n",
       "      <th>device_make_lg</th>\n",
       "      <th>device_make_moto</th>\n",
       "      <th>device_make_nokia</th>\n",
       "      <th>device_make_oneplus</th>\n",
       "      <th>device_make_pixel</th>\n",
       "      <th>device_make_samsung</th>\n",
       "      <th>device_make_xiaomi</th>\n",
       "      <th>yes</th>\n",
       "      <th>experiment_encoded</th>\n",
       "    </tr>\n",
       "  </thead>\n",
       "  <tbody>\n",
       "    <tr>\n",
       "      <th>0</th>\n",
       "      <td>0.705774</td>\n",
       "      <td>0.061372</td>\n",
       "      <td>0.705774</td>\n",
       "      <td>0.0</td>\n",
       "      <td>0.0</td>\n",
       "      <td>0.0</td>\n",
       "      <td>0.0</td>\n",
       "      <td>0.0</td>\n",
       "      <td>0.0</td>\n",
       "      <td>0.0</td>\n",
       "      <td>0.0</td>\n",
       "      <td>0.00000</td>\n",
       "      <td>0.0</td>\n",
       "      <td>0</td>\n",
       "      <td>1</td>\n",
       "    </tr>\n",
       "    <tr>\n",
       "      <th>1</th>\n",
       "      <td>0.634498</td>\n",
       "      <td>0.441390</td>\n",
       "      <td>0.634498</td>\n",
       "      <td>0.0</td>\n",
       "      <td>0.0</td>\n",
       "      <td>0.0</td>\n",
       "      <td>0.0</td>\n",
       "      <td>0.0</td>\n",
       "      <td>0.0</td>\n",
       "      <td>0.0</td>\n",
       "      <td>0.0</td>\n",
       "      <td>0.00000</td>\n",
       "      <td>0.0</td>\n",
       "      <td>1</td>\n",
       "      <td>1</td>\n",
       "    </tr>\n",
       "    <tr>\n",
       "      <th>2</th>\n",
       "      <td>0.686644</td>\n",
       "      <td>0.238833</td>\n",
       "      <td>0.686644</td>\n",
       "      <td>0.0</td>\n",
       "      <td>0.0</td>\n",
       "      <td>0.0</td>\n",
       "      <td>0.0</td>\n",
       "      <td>0.0</td>\n",
       "      <td>0.0</td>\n",
       "      <td>0.0</td>\n",
       "      <td>0.0</td>\n",
       "      <td>0.00000</td>\n",
       "      <td>0.0</td>\n",
       "      <td>0</td>\n",
       "      <td>1</td>\n",
       "    </tr>\n",
       "    <tr>\n",
       "      <th>3</th>\n",
       "      <td>0.701820</td>\n",
       "      <td>0.122056</td>\n",
       "      <td>0.000000</td>\n",
       "      <td>0.0</td>\n",
       "      <td>0.0</td>\n",
       "      <td>0.0</td>\n",
       "      <td>0.0</td>\n",
       "      <td>0.0</td>\n",
       "      <td>0.0</td>\n",
       "      <td>0.0</td>\n",
       "      <td>0.0</td>\n",
       "      <td>0.70182</td>\n",
       "      <td>0.0</td>\n",
       "      <td>1</td>\n",
       "      <td>0</td>\n",
       "    </tr>\n",
       "    <tr>\n",
       "      <th>4</th>\n",
       "      <td>0.642118</td>\n",
       "      <td>0.418772</td>\n",
       "      <td>0.642118</td>\n",
       "      <td>0.0</td>\n",
       "      <td>0.0</td>\n",
       "      <td>0.0</td>\n",
       "      <td>0.0</td>\n",
       "      <td>0.0</td>\n",
       "      <td>0.0</td>\n",
       "      <td>0.0</td>\n",
       "      <td>0.0</td>\n",
       "      <td>0.00000</td>\n",
       "      <td>0.0</td>\n",
       "      <td>0</td>\n",
       "      <td>0</td>\n",
       "    </tr>\n",
       "    <tr>\n",
       "      <th>...</th>\n",
       "      <td>...</td>\n",
       "      <td>...</td>\n",
       "      <td>...</td>\n",
       "      <td>...</td>\n",
       "      <td>...</td>\n",
       "      <td>...</td>\n",
       "      <td>...</td>\n",
       "      <td>...</td>\n",
       "      <td>...</td>\n",
       "      <td>...</td>\n",
       "      <td>...</td>\n",
       "      <td>...</td>\n",
       "      <td>...</td>\n",
       "      <td>...</td>\n",
       "      <td>...</td>\n",
       "    </tr>\n",
       "    <tr>\n",
       "      <th>1238</th>\n",
       "      <td>0.594055</td>\n",
       "      <td>0.542398</td>\n",
       "      <td>0.594055</td>\n",
       "      <td>0.0</td>\n",
       "      <td>0.0</td>\n",
       "      <td>0.0</td>\n",
       "      <td>0.0</td>\n",
       "      <td>0.0</td>\n",
       "      <td>0.0</td>\n",
       "      <td>0.0</td>\n",
       "      <td>0.0</td>\n",
       "      <td>0.00000</td>\n",
       "      <td>0.0</td>\n",
       "      <td>1</td>\n",
       "      <td>1</td>\n",
       "    </tr>\n",
       "    <tr>\n",
       "      <th>1239</th>\n",
       "      <td>0.706773</td>\n",
       "      <td>0.030729</td>\n",
       "      <td>0.706773</td>\n",
       "      <td>0.0</td>\n",
       "      <td>0.0</td>\n",
       "      <td>0.0</td>\n",
       "      <td>0.0</td>\n",
       "      <td>0.0</td>\n",
       "      <td>0.0</td>\n",
       "      <td>0.0</td>\n",
       "      <td>0.0</td>\n",
       "      <td>0.00000</td>\n",
       "      <td>0.0</td>\n",
       "      <td>1</td>\n",
       "      <td>1</td>\n",
       "    </tr>\n",
       "    <tr>\n",
       "      <th>1240</th>\n",
       "      <td>0.691280</td>\n",
       "      <td>0.210390</td>\n",
       "      <td>0.691280</td>\n",
       "      <td>0.0</td>\n",
       "      <td>0.0</td>\n",
       "      <td>0.0</td>\n",
       "      <td>0.0</td>\n",
       "      <td>0.0</td>\n",
       "      <td>0.0</td>\n",
       "      <td>0.0</td>\n",
       "      <td>0.0</td>\n",
       "      <td>0.00000</td>\n",
       "      <td>0.0</td>\n",
       "      <td>0</td>\n",
       "      <td>0</td>\n",
       "    </tr>\n",
       "    <tr>\n",
       "      <th>1241</th>\n",
       "      <td>0.634498</td>\n",
       "      <td>0.441390</td>\n",
       "      <td>0.634498</td>\n",
       "      <td>0.0</td>\n",
       "      <td>0.0</td>\n",
       "      <td>0.0</td>\n",
       "      <td>0.0</td>\n",
       "      <td>0.0</td>\n",
       "      <td>0.0</td>\n",
       "      <td>0.0</td>\n",
       "      <td>0.0</td>\n",
       "      <td>0.00000</td>\n",
       "      <td>0.0</td>\n",
       "      <td>0</td>\n",
       "      <td>0</td>\n",
       "    </tr>\n",
       "    <tr>\n",
       "      <th>1242</th>\n",
       "      <td>0.701820</td>\n",
       "      <td>0.122056</td>\n",
       "      <td>0.701820</td>\n",
       "      <td>0.0</td>\n",
       "      <td>0.0</td>\n",
       "      <td>0.0</td>\n",
       "      <td>0.0</td>\n",
       "      <td>0.0</td>\n",
       "      <td>0.0</td>\n",
       "      <td>0.0</td>\n",
       "      <td>0.0</td>\n",
       "      <td>0.00000</td>\n",
       "      <td>0.0</td>\n",
       "      <td>0</td>\n",
       "      <td>1</td>\n",
       "    </tr>\n",
       "  </tbody>\n",
       "</table>\n",
       "<p>1243 rows × 15 columns</p>\n",
       "</div>"
      ],
      "text/plain": [
       "      platform_os      hour  device_make_Unknown  device_make_htc  \\\n",
       "0        0.705774  0.061372             0.705774              0.0   \n",
       "1        0.634498  0.441390             0.634498              0.0   \n",
       "2        0.686644  0.238833             0.686644              0.0   \n",
       "3        0.701820  0.122056             0.000000              0.0   \n",
       "4        0.642118  0.418772             0.642118              0.0   \n",
       "...           ...       ...                  ...              ...   \n",
       "1238     0.594055  0.542398             0.594055              0.0   \n",
       "1239     0.706773  0.030729             0.706773              0.0   \n",
       "1240     0.691280  0.210390             0.691280              0.0   \n",
       "1241     0.634498  0.441390             0.634498              0.0   \n",
       "1242     0.701820  0.122056             0.701820              0.0   \n",
       "\n",
       "      device_make_huawei  device_make_iphone  device_make_lg  \\\n",
       "0                    0.0                 0.0             0.0   \n",
       "1                    0.0                 0.0             0.0   \n",
       "2                    0.0                 0.0             0.0   \n",
       "3                    0.0                 0.0             0.0   \n",
       "4                    0.0                 0.0             0.0   \n",
       "...                  ...                 ...             ...   \n",
       "1238                 0.0                 0.0             0.0   \n",
       "1239                 0.0                 0.0             0.0   \n",
       "1240                 0.0                 0.0             0.0   \n",
       "1241                 0.0                 0.0             0.0   \n",
       "1242                 0.0                 0.0             0.0   \n",
       "\n",
       "      device_make_moto  device_make_nokia  device_make_oneplus  \\\n",
       "0                  0.0                0.0                  0.0   \n",
       "1                  0.0                0.0                  0.0   \n",
       "2                  0.0                0.0                  0.0   \n",
       "3                  0.0                0.0                  0.0   \n",
       "4                  0.0                0.0                  0.0   \n",
       "...                ...                ...                  ...   \n",
       "1238               0.0                0.0                  0.0   \n",
       "1239               0.0                0.0                  0.0   \n",
       "1240               0.0                0.0                  0.0   \n",
       "1241               0.0                0.0                  0.0   \n",
       "1242               0.0                0.0                  0.0   \n",
       "\n",
       "      device_make_pixel  device_make_samsung  device_make_xiaomi  yes  \\\n",
       "0                   0.0              0.00000                 0.0    0   \n",
       "1                   0.0              0.00000                 0.0    1   \n",
       "2                   0.0              0.00000                 0.0    0   \n",
       "3                   0.0              0.70182                 0.0    1   \n",
       "4                   0.0              0.00000                 0.0    0   \n",
       "...                 ...                  ...                 ...  ...   \n",
       "1238                0.0              0.00000                 0.0    1   \n",
       "1239                0.0              0.00000                 0.0    1   \n",
       "1240                0.0              0.00000                 0.0    0   \n",
       "1241                0.0              0.00000                 0.0    0   \n",
       "1242                0.0              0.00000                 0.0    0   \n",
       "\n",
       "      experiment_encoded  \n",
       "0                      1  \n",
       "1                      1  \n",
       "2                      1  \n",
       "3                      0  \n",
       "4                      0  \n",
       "...                  ...  \n",
       "1238                   1  \n",
       "1239                   1  \n",
       "1240                   0  \n",
       "1241                   0  \n",
       "1242                   1  \n",
       "\n",
       "[1243 rows x 15 columns]"
      ]
     },
     "execution_count": 8,
     "metadata": {},
     "output_type": "execute_result"
    }
   ],
   "source": [
    "df_clean"
   ]
  },
  {
   "cell_type": "markdown",
   "metadata": {},
   "source": [
    "# Model Training"
   ]
  },
  {
   "cell_type": "markdown",
   "metadata": {},
   "source": [
    "## Train-Test split "
   ]
  },
  {
   "cell_type": "code",
   "execution_count": 9,
   "metadata": {},
   "outputs": [],
   "source": [
    "x = df_clean.drop(columns=['yes'],axis=1)\n",
    "y = df_clean['yes']"
   ]
  },
  {
   "cell_type": "code",
   "execution_count": 10,
   "metadata": {},
   "outputs": [],
   "source": [
    "# Splitting our dataset into training and testing dataset\n",
    "x_train, x_test, y_train, y_test = train_test_split(x, y, test_size = 0.3,random_state=42)\n",
    "x_test, x_val, y_test, y_val = train_test_split(x_test, y_test, test_size = 0.66)"
   ]
  },
  {
   "cell_type": "code",
   "execution_count": 11,
   "metadata": {},
   "outputs": [
    {
     "name": "stdout",
     "output_type": "stream",
     "text": [
      "(870,) (126,) (247,)\n",
      "(870, 14) (126, 14) (247, 14)\n"
     ]
    }
   ],
   "source": [
    "print(y_train.shape, y_test.shape, y_val.shape)\n",
    "print(x_train.shape, x_test.shape, x_val.shape)"
   ]
  },
  {
   "cell_type": "markdown",
   "metadata": {},
   "source": [
    "##  1. Logistic Regression"
      ]
  },
  {
   "cell_type": "markdown",
   "metadata": {},
   "source": [
    "### 5- fold CV"
   ]
  },
  {
   "cell_type": "code",
   "execution_count": 12,
   "metadata": {},
   "outputs": [],
   "source": [
    "from model_prep import Model_Eval\n",
    "model_eval = Model_Eval()\n"
   ]
  },
  {
   "cell_type": "code",
   "execution_count": 23,
   "metadata": {},
   "outputs": [],
   "source": [
    "from xgboost import XGBClassifier\n",
    "from sklearn.tree import DecisionTreeClassifier\n",
    "from sklearn.ensemble import RandomForestClassifier\n",
    "from sklearn.neighbors import KNeighborsClassifier\n",
    "from sklearn.linear_model import LogisticRegression\n",
    "from sklearn.naive_bayes import BernoulliNB, GaussianNB"
   ]
  },
  {
   "cell_type": "code",
   "execution_count": 27,
   "metadata": {},
   "outputs": [],
   "source": [
    "log = LogisticRegression()\n",
    "xgb = XGBClassifier(n_estimators=1000, learning_rate=0.05)\n",
    "dt = DecisionTreeClassifier()"
   ]
  },
  {
   "cell_type": "code",
   "execution_count": 31,
   "metadata": {},
   "outputs": [],
   "source": [
    "\n",
    "result = model_eval.cross_val(log,x=x,y=y,cv=5)"
   ]
  },
  {
   "cell_type": "code",
   "execution_count": null,
   "metadata": {},
   "outputs": [],
   "source": []
  },
  {
   "cell_type": "code",
   "execution_count": 32,
   "metadata": {},
   "outputs": [
    {
     "data": {
      "image/png": "[encoded data removed]",
      "text/plain": [
       "<Figure size 1200x600 with 1 Axes>"
      ]
     },
     "metadata": {},
     "output_type": "display_data"
    }
   ],
   "source": [
    "model_eval.plot_result(result,x_label='Logistic Regression',plot_title=\"Logistic Regression Validation\",image_name=\"\",_type='accuracy')\n"
   ]
  }
 ],
 "metadata": {
  "kernelspec": {
   "display_name": "Python 3.8.5 ('base')",
   "language": "python",
   "name": "python3"
  },
  "language_info": {
   "codemirror_mode": {
    "name": "ipython",
    "version": 3
   },
   "file_extension": ".py",
   "mimetype": "text/x-python",
   "name": "python",
   "nbconvert_exporter": "python",
   "pygments_lexer": "ipython3",
   "version": "3.8.5"
  },
  "orig_nbformat": 4,
  "vscode": {
   "interpreter": {
    "hash": "3b25c743c9c52f3e2d748c75b3250361bd4e45ddc58ede1f4407b3d8dbcd6530"
   }
  }
 },
 "nbformat": 4,
 "nbformat_minor": 2
}
