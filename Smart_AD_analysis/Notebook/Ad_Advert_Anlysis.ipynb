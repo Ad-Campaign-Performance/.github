{
 "cells": [
  {
   "cell_type": "code",
   "execution_count": 167,
   "id": "e835bf9a",
   "metadata": {},
   "outputs": [],
   "source": [
    "#Importing the required modules\n",
    "import pandas as pd\n",
    "import warnings\n",
    "warnings.filterwarnings(\"ignore\")\n",
    "import numpy as np\n",
    "import matplotlib.pyplot as plt\n",
    "import seaborn as sns\n",
    "import scipy.stats as sp\n"
   ]
  },
  {
   "cell_type": "code",
   "execution_count": 168,
   "id": "d36ff413",
   "metadata": {},
   "outputs": [],
   "source": [
    "# Importing Pandas an Numpy Libraries to use on manipulating our Data\n",
    "import pandas as pd\n",
    "import numpy as np\n",
    "\n",
    "# To Preproccesing our data\n",
    "from sklearn.preprocessing import LabelEncoder\n",
    "\n",
    "# To fill missing values\n",
    "from sklearn.impute import SimpleImputer\n",
    "\n",
    "# To Split our train data\n",
    "from sklearn.model_selection import train_test_split\n",
    "\n",
    "# To Visualize Data\n",
    "import matplotlib.pyplot as plt\n",
    "import seaborn as sns\n",
    "\n",
    "# To Train our data\n",
    "from xgboost import XGBClassifier\n",
    "from sklearn.tree import DecisionTreeClassifier\n",
    "from sklearn.ensemble import RandomForestClassifier\n",
    "from sklearn.neighbors import KNeighborsClassifier\n",
    "from sklearn.linear_model import LogisticRegression\n",
    "from sklearn.naive_bayes import BernoulliNB, GaussianNB\n",
    "\n",
    "# To evaluate end result we have\n",
    "from sklearn.metrics import accuracy_score, confusion_matrix\n",
    "from sklearn.model_selection import LeaveOneOut\n",
    "from sklearn.model_selection import cross_val_score\n"
   ]
  },
  {
   "cell_type": "code",
   "execution_count": 169,
   "id": "f1113535",
   "metadata": {},
   "outputs": [
    {
     "data": {
      "text/html": [
       "<div>\n",
       "<style scoped>\n",
       "    .dataframe tbody tr th:only-of-type {\n",
       "        vertical-align: middle;\n",
       "    }\n",
       "\n",
       "    .dataframe tbody tr th {\n",
       "        vertical-align: top;\n",
       "    }\n",
       "\n",
       "    .dataframe thead th {\n",
       "        text-align: right;\n",
       "    }\n",
       "</style>\n",
       "<table border=\"1\" class=\"dataframe\">\n",
       "  <thead>\n",
       "    <tr style=\"text-align: right;\">\n",
       "      <th></th>\n",
       "      <th>auction_id</th>\n",
       "      <th>experiment</th>\n",
       "      <th>date</th>\n",
       "      <th>hour</th>\n",
       "      <th>device_make</th>\n",
       "      <th>platform_os</th>\n",
       "      <th>browser</th>\n",
       "      <th>yes</th>\n",
       "      <th>no</th>\n",
       "    </tr>\n",
       "  </thead>\n",
       "  <tbody>\n",
       "    <tr>\n",
       "      <th>0</th>\n",
       "      <td>0008ef63-77a7-448b-bd1e-075f42c55e39</td>\n",
       "      <td>exposed</td>\n",
       "      <td>2020-07-10</td>\n",
       "      <td>8</td>\n",
       "      <td>Generic Smartphone</td>\n",
       "      <td>6</td>\n",
       "      <td>Chrome Mobile</td>\n",
       "      <td>0</td>\n",
       "      <td>0</td>\n",
       "    </tr>\n",
       "    <tr>\n",
       "      <th>1</th>\n",
       "      <td>000eabc5-17ce-4137-8efe-44734d914446</td>\n",
       "      <td>exposed</td>\n",
       "      <td>2020-07-07</td>\n",
       "      <td>10</td>\n",
       "      <td>Generic Smartphone</td>\n",
       "      <td>6</td>\n",
       "      <td>Chrome Mobile</td>\n",
       "      <td>0</td>\n",
       "      <td>0</td>\n",
       "    </tr>\n",
       "    <tr>\n",
       "      <th>2</th>\n",
       "      <td>0016d14a-ae18-4a02-a204-6ba53b52f2ed</td>\n",
       "      <td>exposed</td>\n",
       "      <td>2020-07-05</td>\n",
       "      <td>2</td>\n",
       "      <td>E5823</td>\n",
       "      <td>6</td>\n",
       "      <td>Chrome Mobile WebView</td>\n",
       "      <td>0</td>\n",
       "      <td>1</td>\n",
       "    </tr>\n",
       "    <tr>\n",
       "      <th>3</th>\n",
       "      <td>00187412-2932-4542-a8ef-3633901c98d9</td>\n",
       "      <td>control</td>\n",
       "      <td>2020-07-03</td>\n",
       "      <td>15</td>\n",
       "      <td>Samsung SM-A705FN</td>\n",
       "      <td>6</td>\n",
       "      <td>Facebook</td>\n",
       "      <td>0</td>\n",
       "      <td>0</td>\n",
       "    </tr>\n",
       "    <tr>\n",
       "      <th>4</th>\n",
       "      <td>001a7785-d3fe-4e11-a344-c8735acacc2c</td>\n",
       "      <td>control</td>\n",
       "      <td>2020-07-03</td>\n",
       "      <td>15</td>\n",
       "      <td>Generic Smartphone</td>\n",
       "      <td>6</td>\n",
       "      <td>Chrome Mobile</td>\n",
       "      <td>0</td>\n",
       "      <td>0</td>\n",
       "    </tr>\n",
       "  </tbody>\n",
       "</table>\n",
       "</div>"
      ],
      "text/plain": [
       "                             auction_id experiment        date  hour  \\\n",
       "0  0008ef63-77a7-448b-bd1e-075f42c55e39    exposed  2020-07-10     8   \n",
       "1  000eabc5-17ce-4137-8efe-44734d914446    exposed  2020-07-07    10   \n",
       "2  0016d14a-ae18-4a02-a204-6ba53b52f2ed    exposed  2020-07-05     2   \n",
       "3  00187412-2932-4542-a8ef-3633901c98d9    control  2020-07-03    15   \n",
       "4  001a7785-d3fe-4e11-a344-c8735acacc2c    control  2020-07-03    15   \n",
       "\n",
       "          device_make  platform_os                browser  yes  no  \n",
       "0  Generic Smartphone            6          Chrome Mobile    0   0  \n",
       "1  Generic Smartphone            6          Chrome Mobile    0   0  \n",
       "2               E5823            6  Chrome Mobile WebView    0   1  \n",
       "3   Samsung SM-A705FN            6               Facebook    0   0  \n",
       "4  Generic Smartphone            6          Chrome Mobile    0   0  "
      ]
     },
     "execution_count": 169,
     "metadata": {},
     "output_type": "execute_result"
    }
   ],
   "source": [
    "Ad=pd.read_csv(r\"C:\\Users\\Genet Shanko\\Task_two\\AdSmartABdata.csv\",na_values=['numeric_only',None])\n",
    "Ad.head()"
   ]
  },
  {
   "cell_type": "code",
   "execution_count": 170,
   "id": "ccc65e98",
   "metadata": {},
   "outputs": [
    {
     "data": {
      "text/plain": [
       "['auction_id',\n",
       " 'experiment',\n",
       " 'date',\n",
       " 'hour',\n",
       " 'device_make',\n",
       " 'platform_os',\n",
       " 'browser',\n",
       " 'yes',\n",
       " 'no']"
      ]
     },
     "execution_count": 170,
     "metadata": {},
     "output_type": "execute_result"
    }
   ],
   "source": [
    "Ad.columns.tolist()"
   ]
  },
  {
   "cell_type": "code",
   "execution_count": 171,
   "id": "3cb8cd2a",
   "metadata": {},
   "outputs": [
    {
     "name": "stdout",
     "output_type": "stream",
     "text": [
      "<class 'pandas.core.frame.DataFrame'>\n",
      "RangeIndex: 8077 entries, 0 to 8076\n",
      "Data columns (total 9 columns):\n",
      " #   Column       Non-Null Count  Dtype \n",
      "---  ------       --------------  ----- \n",
      " 0   auction_id   8077 non-null   object\n",
      " 1   experiment   8077 non-null   object\n",
      " 2   date         8077 non-null   object\n",
      " 3   hour         8077 non-null   int64 \n",
      " 4   device_make  8077 non-null   object\n",
      " 5   platform_os  8077 non-null   int64 \n",
      " 6   browser      8077 non-null   object\n",
      " 7   yes          8077 non-null   int64 \n",
      " 8   no           8077 non-null   int64 \n",
      "dtypes: int64(4), object(5)\n",
      "memory usage: 568.0+ KB\n"
     ]
    }
   ],
   "source": [
    "Ad.info()"
   ]
  },
  {
   "cell_type": "code",
   "execution_count": 172,
   "id": "072a8177",
   "metadata": {},
   "outputs": [
    {
     "data": {
      "text/plain": [
       "8077"
      ]
     },
     "execution_count": 172,
     "metadata": {},
     "output_type": "execute_result"
    }
   ],
   "source": [
    "Adcells= len(Ad)\n",
    "Adcells"
   ]
  },
  {
   "cell_type": "code",
   "execution_count": 173,
   "id": "9a32eb65",
   "metadata": {},
   "outputs": [
    {
     "data": {
      "text/plain": [
       "(8077, 9)"
      ]
     },
     "execution_count": 173,
     "metadata": {},
     "output_type": "execute_result"
    }
   ],
   "source": [
    " Ad.shape"
   ]
  },
  {
   "cell_type": "code",
   "execution_count": 174,
   "id": "dfb12973",
   "metadata": {},
   "outputs": [
    {
     "data": {
      "text/html": [
       "<div>\n",
       "<style scoped>\n",
       "    .dataframe tbody tr th:only-of-type {\n",
       "        vertical-align: middle;\n",
       "    }\n",
       "\n",
       "    .dataframe tbody tr th {\n",
       "        vertical-align: top;\n",
       "    }\n",
       "\n",
       "    .dataframe thead th {\n",
       "        text-align: right;\n",
       "    }\n",
       "</style>\n",
       "<table border=\"1\" class=\"dataframe\">\n",
       "  <thead>\n",
       "    <tr style=\"text-align: right;\">\n",
       "      <th></th>\n",
       "      <th>hour</th>\n",
       "      <th>platform_os</th>\n",
       "      <th>yes</th>\n",
       "      <th>no</th>\n",
       "    </tr>\n",
       "  </thead>\n",
       "  <tbody>\n",
       "    <tr>\n",
       "      <th>count</th>\n",
       "      <td>8077.000000</td>\n",
       "      <td>8077.000000</td>\n",
       "      <td>8077.000000</td>\n",
       "      <td>8077.000000</td>\n",
       "    </tr>\n",
       "    <tr>\n",
       "      <th>mean</th>\n",
       "      <td>11.615080</td>\n",
       "      <td>5.947134</td>\n",
       "      <td>0.070818</td>\n",
       "      <td>0.083075</td>\n",
       "    </tr>\n",
       "    <tr>\n",
       "      <th>std</th>\n",
       "      <td>5.734879</td>\n",
       "      <td>0.224333</td>\n",
       "      <td>0.256537</td>\n",
       "      <td>0.276013</td>\n",
       "    </tr>\n",
       "    <tr>\n",
       "      <th>min</th>\n",
       "      <td>0.000000</td>\n",
       "      <td>5.000000</td>\n",
       "      <td>0.000000</td>\n",
       "      <td>0.000000</td>\n",
       "    </tr>\n",
       "    <tr>\n",
       "      <th>25%</th>\n",
       "      <td>7.000000</td>\n",
       "      <td>6.000000</td>\n",
       "      <td>0.000000</td>\n",
       "      <td>0.000000</td>\n",
       "    </tr>\n",
       "    <tr>\n",
       "      <th>50%</th>\n",
       "      <td>13.000000</td>\n",
       "      <td>6.000000</td>\n",
       "      <td>0.000000</td>\n",
       "      <td>0.000000</td>\n",
       "    </tr>\n",
       "    <tr>\n",
       "      <th>75%</th>\n",
       "      <td>15.000000</td>\n",
       "      <td>6.000000</td>\n",
       "      <td>0.000000</td>\n",
       "      <td>0.000000</td>\n",
       "    </tr>\n",
       "    <tr>\n",
       "      <th>max</th>\n",
       "      <td>23.000000</td>\n",
       "      <td>7.000000</td>\n",
       "      <td>1.000000</td>\n",
       "      <td>1.000000</td>\n",
       "    </tr>\n",
       "  </tbody>\n",
       "</table>\n",
       "</div>"
      ],
      "text/plain": [
       "              hour  platform_os          yes           no\n",
       "count  8077.000000  8077.000000  8077.000000  8077.000000\n",
       "mean     11.615080     5.947134     0.070818     0.083075\n",
       "std       5.734879     0.224333     0.256537     0.276013\n",
       "min       0.000000     5.000000     0.000000     0.000000\n",
       "25%       7.000000     6.000000     0.000000     0.000000\n",
       "50%      13.000000     6.000000     0.000000     0.000000\n",
       "75%      15.000000     6.000000     0.000000     0.000000\n",
       "max      23.000000     7.000000     1.000000     1.000000"
      ]
     },
     "execution_count": 174,
     "metadata": {},
     "output_type": "execute_result"
    }
   ],
   "source": [
    "Ad.describe()"
   ]
  },
  {
   "cell_type": "code",
   "execution_count": 175,
   "id": "471e2426",
   "metadata": {},
   "outputs": [
    {
     "data": {
      "text/html": [
       "<div>\n",
       "<style scoped>\n",
       "    .dataframe tbody tr th:only-of-type {\n",
       "        vertical-align: middle;\n",
       "    }\n",
       "\n",
       "    .dataframe tbody tr th {\n",
       "        vertical-align: top;\n",
       "    }\n",
       "\n",
       "    .dataframe thead th {\n",
       "        text-align: right;\n",
       "    }\n",
       "</style>\n",
       "<table border=\"1\" class=\"dataframe\">\n",
       "  <thead>\n",
       "    <tr style=\"text-align: right;\">\n",
       "      <th></th>\n",
       "      <th>device_make</th>\n",
       "    </tr>\n",
       "  </thead>\n",
       "  <tbody>\n",
       "    <tr>\n",
       "      <th>count</th>\n",
       "      <td>8077</td>\n",
       "    </tr>\n",
       "    <tr>\n",
       "      <th>unique</th>\n",
       "      <td>270</td>\n",
       "    </tr>\n",
       "    <tr>\n",
       "      <th>top</th>\n",
       "      <td>Generic Smartphone</td>\n",
       "    </tr>\n",
       "    <tr>\n",
       "      <th>freq</th>\n",
       "      <td>4743</td>\n",
       "    </tr>\n",
       "  </tbody>\n",
       "</table>\n",
       "</div>"
      ],
      "text/plain": [
       "               device_make\n",
       "count                 8077\n",
       "unique                 270\n",
       "top     Generic Smartphone\n",
       "freq                  4743"
      ]
     },
     "execution_count": 175,
     "metadata": {},
     "output_type": "execute_result"
    }
   ],
   "source": [
    "Ad[['device_make']].describe()"
   ]
  },
  {
   "cell_type": "code",
   "execution_count": 176,
   "id": "48f6c115",
   "metadata": {},
   "outputs": [
    {
     "data": {
      "text/html": [
       "<div>\n",
       "<style scoped>\n",
       "    .dataframe tbody tr th:only-of-type {\n",
       "        vertical-align: middle;\n",
       "    }\n",
       "\n",
       "    .dataframe tbody tr th {\n",
       "        vertical-align: top;\n",
       "    }\n",
       "\n",
       "    .dataframe thead th {\n",
       "        text-align: right;\n",
       "    }\n",
       "</style>\n",
       "<table border=\"1\" class=\"dataframe\">\n",
       "  <thead>\n",
       "    <tr style=\"text-align: right;\">\n",
       "      <th></th>\n",
       "      <th>platform_os</th>\n",
       "    </tr>\n",
       "  </thead>\n",
       "  <tbody>\n",
       "    <tr>\n",
       "      <th>count</th>\n",
       "      <td>8077.000000</td>\n",
       "    </tr>\n",
       "    <tr>\n",
       "      <th>mean</th>\n",
       "      <td>5.947134</td>\n",
       "    </tr>\n",
       "    <tr>\n",
       "      <th>std</th>\n",
       "      <td>0.224333</td>\n",
       "    </tr>\n",
       "    <tr>\n",
       "      <th>min</th>\n",
       "      <td>5.000000</td>\n",
       "    </tr>\n",
       "    <tr>\n",
       "      <th>25%</th>\n",
       "      <td>6.000000</td>\n",
       "    </tr>\n",
       "    <tr>\n",
       "      <th>50%</th>\n",
       "      <td>6.000000</td>\n",
       "    </tr>\n",
       "    <tr>\n",
       "      <th>75%</th>\n",
       "      <td>6.000000</td>\n",
       "    </tr>\n",
       "    <tr>\n",
       "      <th>max</th>\n",
       "      <td>7.000000</td>\n",
       "    </tr>\n",
       "  </tbody>\n",
       "</table>\n",
       "</div>"
      ],
      "text/plain": [
       "       platform_os\n",
       "count  8077.000000\n",
       "mean      5.947134\n",
       "std       0.224333\n",
       "min       5.000000\n",
       "25%       6.000000\n",
       "50%       6.000000\n",
       "75%       6.000000\n",
       "max       7.000000"
      ]
     },
     "execution_count": 176,
     "metadata": {},
     "output_type": "execute_result"
    }
   ],
   "source": [
    "Ad[['platform_os']].describe()"
   ]
  },
  {
   "cell_type": "code",
   "execution_count": 177,
   "id": "19657e21",
   "metadata": {},
   "outputs": [
    {
     "data": {
      "text/html": [
       "<div>\n",
       "<style scoped>\n",
       "    .dataframe tbody tr th:only-of-type {\n",
       "        vertical-align: middle;\n",
       "    }\n",
       "\n",
       "    .dataframe tbody tr th {\n",
       "        vertical-align: top;\n",
       "    }\n",
       "\n",
       "    .dataframe thead th {\n",
       "        text-align: right;\n",
       "    }\n",
       "</style>\n",
       "<table border=\"1\" class=\"dataframe\">\n",
       "  <thead>\n",
       "    <tr style=\"text-align: right;\">\n",
       "      <th></th>\n",
       "      <th>browser</th>\n",
       "    </tr>\n",
       "  </thead>\n",
       "  <tbody>\n",
       "    <tr>\n",
       "      <th>count</th>\n",
       "      <td>8077</td>\n",
       "    </tr>\n",
       "    <tr>\n",
       "      <th>unique</th>\n",
       "      <td>15</td>\n",
       "    </tr>\n",
       "    <tr>\n",
       "      <th>top</th>\n",
       "      <td>Chrome Mobile</td>\n",
       "    </tr>\n",
       "    <tr>\n",
       "      <th>freq</th>\n",
       "      <td>4554</td>\n",
       "    </tr>\n",
       "  </tbody>\n",
       "</table>\n",
       "</div>"
      ],
      "text/plain": [
       "              browser\n",
       "count            8077\n",
       "unique             15\n",
       "top     Chrome Mobile\n",
       "freq             4554"
      ]
     },
     "execution_count": 177,
     "metadata": {},
     "output_type": "execute_result"
    }
   ],
   "source": [
    "Ad[['browser']].describe()"
   ]
  },
  {
   "cell_type": "code",
   "execution_count": 178,
   "id": "943eb661",
   "metadata": {},
   "outputs": [
    {
     "data": {
      "text/html": [
       "<div>\n",
       "<style scoped>\n",
       "    .dataframe tbody tr th:only-of-type {\n",
       "        vertical-align: middle;\n",
       "    }\n",
       "\n",
       "    .dataframe tbody tr th {\n",
       "        vertical-align: top;\n",
       "    }\n",
       "\n",
       "    .dataframe thead th {\n",
       "        text-align: right;\n",
       "    }\n",
       "</style>\n",
       "<table border=\"1\" class=\"dataframe\">\n",
       "  <thead>\n",
       "    <tr style=\"text-align: right;\">\n",
       "      <th></th>\n",
       "      <th>yes</th>\n",
       "    </tr>\n",
       "  </thead>\n",
       "  <tbody>\n",
       "    <tr>\n",
       "      <th>count</th>\n",
       "      <td>8077.000000</td>\n",
       "    </tr>\n",
       "    <tr>\n",
       "      <th>mean</th>\n",
       "      <td>0.070818</td>\n",
       "    </tr>\n",
       "    <tr>\n",
       "      <th>std</th>\n",
       "      <td>0.256537</td>\n",
       "    </tr>\n",
       "    <tr>\n",
       "      <th>min</th>\n",
       "      <td>0.000000</td>\n",
       "    </tr>\n",
       "    <tr>\n",
       "      <th>25%</th>\n",
       "      <td>0.000000</td>\n",
       "    </tr>\n",
       "    <tr>\n",
       "      <th>50%</th>\n",
       "      <td>0.000000</td>\n",
       "    </tr>\n",
       "    <tr>\n",
       "      <th>75%</th>\n",
       "      <td>0.000000</td>\n",
       "    </tr>\n",
       "    <tr>\n",
       "      <th>max</th>\n",
       "      <td>1.000000</td>\n",
       "    </tr>\n",
       "  </tbody>\n",
       "</table>\n",
       "</div>"
      ],
      "text/plain": [
       "               yes\n",
       "count  8077.000000\n",
       "mean      0.070818\n",
       "std       0.256537\n",
       "min       0.000000\n",
       "25%       0.000000\n",
       "50%       0.000000\n",
       "75%       0.000000\n",
       "max       1.000000"
      ]
     },
     "execution_count": 178,
     "metadata": {},
     "output_type": "execute_result"
    }
   ],
   "source": [
    "Ad[['yes']].describe()"
   ]
  },
  {
   "cell_type": "code",
   "execution_count": 199,
   "id": "16ba9fa6",
   "metadata": {},
   "outputs": [
    {
     "data": {
      "text/html": [
       "<div>\n",
       "<style scoped>\n",
       "    .dataframe tbody tr th:only-of-type {\n",
       "        vertical-align: middle;\n",
       "    }\n",
       "\n",
       "    .dataframe tbody tr th {\n",
       "        vertical-align: top;\n",
       "    }\n",
       "\n",
       "    .dataframe thead th {\n",
       "        text-align: right;\n",
       "    }\n",
       "</style>\n",
       "<table border=\"1\" class=\"dataframe\">\n",
       "  <thead>\n",
       "    <tr style=\"text-align: right;\">\n",
       "      <th></th>\n",
       "      <th>no</th>\n",
       "    </tr>\n",
       "  </thead>\n",
       "  <tbody>\n",
       "    <tr>\n",
       "      <th>count</th>\n",
       "      <td>8077.000000</td>\n",
       "    </tr>\n",
       "    <tr>\n",
       "      <th>mean</th>\n",
       "      <td>0.083075</td>\n",
       "    </tr>\n",
       "    <tr>\n",
       "      <th>std</th>\n",
       "      <td>0.276013</td>\n",
       "    </tr>\n",
       "    <tr>\n",
       "      <th>min</th>\n",
       "      <td>0.000000</td>\n",
       "    </tr>\n",
       "    <tr>\n",
       "      <th>25%</th>\n",
       "      <td>0.000000</td>\n",
       "    </tr>\n",
       "    <tr>\n",
       "      <th>50%</th>\n",
       "      <td>0.000000</td>\n",
       "    </tr>\n",
       "    <tr>\n",
       "      <th>75%</th>\n",
       "      <td>0.000000</td>\n",
       "    </tr>\n",
       "    <tr>\n",
       "      <th>max</th>\n",
       "      <td>1.000000</td>\n",
       "    </tr>\n",
       "  </tbody>\n",
       "</table>\n",
       "</div>"
      ],
      "text/plain": [
       "                no\n",
       "count  8077.000000\n",
       "mean      0.083075\n",
       "std       0.276013\n",
       "min       0.000000\n",
       "25%       0.000000\n",
       "50%       0.000000\n",
       "75%       0.000000\n",
       "max       1.000000"
      ]
     },
     "execution_count": 199,
     "metadata": {},
     "output_type": "execute_result"
    }
   ],
   "source": [
    "Ad[['no']].describe()"
   ]
  },
  {
   "cell_type": "code",
   "execution_count": 200,
   "id": "f575f27a",
   "metadata": {},
   "outputs": [
    {
     "data": {
      "text/html": [
       "<div>\n",
       "<style scoped>\n",
       "    .dataframe tbody tr th:only-of-type {\n",
       "        vertical-align: middle;\n",
       "    }\n",
       "\n",
       "    .dataframe tbody tr th {\n",
       "        vertical-align: top;\n",
       "    }\n",
       "\n",
       "    .dataframe thead th {\n",
       "        text-align: right;\n",
       "    }\n",
       "</style>\n",
       "<table border=\"1\" class=\"dataframe\">\n",
       "  <thead>\n",
       "    <tr style=\"text-align: right;\">\n",
       "      <th></th>\n",
       "      <th>auction_id</th>\n",
       "      <th>experiment</th>\n",
       "      <th>date</th>\n",
       "      <th>hour</th>\n",
       "      <th>device_make</th>\n",
       "      <th>platform_os</th>\n",
       "      <th>browser</th>\n",
       "      <th>yes</th>\n",
       "      <th>no</th>\n",
       "    </tr>\n",
       "  </thead>\n",
       "  <tbody>\n",
       "  </tbody>\n",
       "</table>\n",
       "</div>"
      ],
      "text/plain": [
       "Empty DataFrame\n",
       "Columns: [auction_id, experiment, date, hour, device_make, platform_os, browser, yes, no]\n",
       "Index: []"
      ]
     },
     "execution_count": 200,
     "metadata": {},
     "output_type": "execute_result"
    }
   ],
   "source": [
    "Ad[Ad.auction_id.duplicated(keep=False)]"
   ]
  },
  {
   "cell_type": "markdown",
   "id": "31e8b5a7",
   "metadata": {},
   "source": [
    "# A/B testing "
   ]
  },
  {
   "cell_type": "code",
   "execution_count": 202,
   "id": "d55ea1c1",
   "metadata": {},
   "outputs": [
    {
     "data": {
      "text/plain": [
       "hour           11.615080\n",
       "platform_os     5.947134\n",
       "yes             0.070818\n",
       "no              0.083075\n",
       "dtype: float64"
      ]
     },
     "execution_count": 202,
     "metadata": {},
     "output_type": "execute_result"
    }
   ],
   "source": [
    "p_new = Ad.mean()\n",
    "p_new"
   ]
  },
  {
   "cell_type": "code",
   "execution_count": null,
   "id": "c62482d2",
   "metadata": {},
   "outputs": [],
   "source": []
  },
  {
   "cell_type": "code",
   "execution_count": 180,
   "id": "2903bea4",
   "metadata": {},
   "outputs": [
    {
     "data": {
      "text/plain": [
       "Generic Smartphone    4743\n",
       "iPhone                 433\n",
       "Samsung SM-G960F       203\n",
       "Samsung SM-G973F       154\n",
       "Samsung SM-G950F       148\n",
       "Name: device_make, dtype: int64"
      ]
     },
     "execution_count": 180,
     "metadata": {},
     "output_type": "execute_result"
    },
    {
     "data": {
      "image/png": "[encoded data removed]",
      "text/plain": [
       "<Figure size 432x288 with 1 Axes>"
      ]
     },
     "metadata": {
      "needs_background": "light"
     },
     "output_type": "display_data"
    }
   ],
   "source": [
    "mobile_type= Ad['device_make'].value_counts()[0:5]\n",
    "mobile_type.plot.bar(x='device_make', title=\"Types of mobile phone frequatility userd\", stacked=True, color='#3492eb')\n",
    "mobile_type"
   ]
  },
  {
   "cell_type": "code",
   "execution_count": 181,
   "id": "f0ae57d8",
   "metadata": {},
   "outputs": [
    {
     "data": {
      "text/plain": [
       "Chrome Mobile            4554\n",
       "Chrome Mobile WebView    1489\n",
       "Samsung Internet          824\n",
       "Facebook                  764\n",
       "Mobile Safari             337\n",
       "Name: browser, dtype: int64"
      ]
     },
     "execution_count": 181,
     "metadata": {},
     "output_type": "execute_result"
    },
    {
     "data": {
      "image/png": "[encoded data removed]",
      "text/plain": [
       "<Figure size 432x288 with 1 Axes>"
      ]
     },
     "metadata": {
      "needs_background": "light"
     },
     "output_type": "display_data"
    }
   ],
   "source": [
    "browser_type= Ad['browser'].value_counts()[0:5]\n",
    "browser_type.plot.bar(x='browser', title=\"Types of browser frequatility userd\", stacked=True, color='#343434')\n",
    "browser_type"
   ]
  },
  {
   "cell_type": "code",
   "execution_count": 182,
   "id": "b2e7d422",
   "metadata": {},
   "outputs": [
    {
     "data": {
      "text/plain": [
       "6    7648\n",
       "5     428\n",
       "7       1\n",
       "Name: platform_os, dtype: int64"
      ]
     },
     "execution_count": 182,
     "metadata": {},
     "output_type": "execute_result"
    },
    {
     "data": {
      "image/png": "[encoded data removed]",
      "text/plain": [
       "<Figure size 432x288 with 1 Axes>"
      ]
     },
     "metadata": {
      "needs_background": "light"
     },
     "output_type": "display_data"
    }
   ],
   "source": [
    "platform_os_type= Ad['platform_os'].value_counts()[0:1000]\n",
    "platform_os_type.plot.bar(x='platform_os', title=\"Types of mobile platform_os phone frequatility userd\", stacked=True, color='#34ff00')\n",
    "platform_os_type"
   ]
  },
  {
   "cell_type": "code",
   "execution_count": 183,
   "id": "416b7350",
   "metadata": {},
   "outputs": [
    {
     "data": {
      "text/plain": [
       "control    4071\n",
       "exposed    4006\n",
       "Name: experiment, dtype: int64"
      ]
     },
     "execution_count": 183,
     "metadata": {},
     "output_type": "execute_result"
    },
    {
     "data": {
      "image/png": "[encoded data removed]",
      "text/plain": [
       "<Figure size 432x288 with 1 Axes>"
      ]
     },
     "metadata": {
      "needs_background": "light"
     },
     "output_type": "display_data"
    }
   ],
   "source": [
    "experiment_type= Ad['experiment'].value_counts()[0:1000]\n",
    "experiment_type.plot.bar(x='experiment', title=\"Types of experiment that the user paricpated\", stacked=True, color='#964b00')\n",
    "experiment_type\n"
   ]
  },
  {
   "cell_type": "code",
   "execution_count": 184,
   "id": "214beb03",
   "metadata": {},
   "outputs": [
    {
     "data": {
      "text/plain": [
       "0    7505\n",
       "1     572\n",
       "Name: yes, dtype: int64"
      ]
     },
     "execution_count": 184,
     "metadata": {},
     "output_type": "execute_result"
    },
    {
     "data": {
      "image/png": "[encoded data removed]",
      "text/plain": [
       "<Figure size 432x288 with 1 Axes>"
      ]
     },
     "metadata": {
      "needs_background": "light"
     },
     "output_type": "display_data"
    }
   ],
   "source": [
    "yes_type= Ad['yes'].value_counts()[0:1000]\n",
    "yes_type.plot.bar(x='yes', title=\"Types of experiment that the user paricpated\", stacked=True, color='#964b00')\n",
    "yes_type"
   ]
  },
  {
   "cell_type": "code",
   "execution_count": 185,
   "id": "bceca9a1",
   "metadata": {},
   "outputs": [
    {
     "data": {
      "text/plain": [
       "0    7406\n",
       "1     671\n",
       "Name: no, dtype: int64"
      ]
     },
     "execution_count": 185,
     "metadata": {},
     "output_type": "execute_result"
    },
    {
     "data": {
      "image/png": "[encoded data removed]",
      "text/plain": [
       "<Figure size 432x288 with 1 Axes>"
      ]
     },
     "metadata": {
      "needs_background": "light"
     },
     "output_type": "display_data"
    }
   ],
   "source": [
    "no_type= Ad['no'].value_counts()[0:8000]\n",
    "no_type.plot.bar(x='no', title=\"Types of experiment that the user paricpated\", stacked=True, color='#964b00')\n",
    "no_type"
   ]
  },
  {
   "cell_type": "code",
   "execution_count": 186,
   "id": "a97e9a8d",
   "metadata": {},
   "outputs": [],
   "source": [
    "users_data = Ad.groupby('auction_id')"
   ]
  },
  {
   "cell_type": "code",
   "execution_count": 187,
   "id": "17525bef",
   "metadata": {},
   "outputs": [
    {
     "data": {
      "text/plain": [
       "auction_id\n",
       "0008ef63-77a7-448b-bd1e-075f42c55e39    1\n",
       "000eabc5-17ce-4137-8efe-44734d914446    1\n",
       "0016d14a-ae18-4a02-a204-6ba53b52f2ed    1\n",
       "00187412-2932-4542-a8ef-3633901c98d9    1\n",
       "001a7785-d3fe-4e11-a344-c8735acacc2c    1\n",
       "                                       ..\n",
       "030f8197-4daa-4584-a43a-a5805d6947e4    1\n",
       "0315f5f3-d286-4d23-abbc-1c7b8401991f    1\n",
       "0320f9a0-7e0a-4c0d-a553-66c75d71a2ea    1\n",
       "03244a64-9192-40fc-9bd7-7edd1bd9643a    1\n",
       "0332792f-0de9-4902-9d08-06033c3d8371    1\n",
       "Name: experiment, Length: 100, dtype: int64"
      ]
     },
     "execution_count": 187,
     "metadata": {},
     "output_type": "execute_result"
    }
   ],
   "source": [
    "users_sessions= users_data['experiment'].count()\n",
    "users_sessions.head(100)"
   ]
  },
  {
   "cell_type": "code",
   "execution_count": 188,
   "id": "f1f6ce0b",
   "metadata": {},
   "outputs": [],
   "source": [
    "import plotly.io as pio\n",
    "from IPython.display import Image\n",
    "def mult_hist(sr, rows, cols, title_text, subplot_titles, interactive=False):\n",
    "    fig = make_subplots(rows=rows, cols=cols, subplot_titles=subplot_titles)\n",
    "    for i in range(rows):\n",
    "        for j in range(cols):\n",
    "            x = [\"-> \" + str(i) for i in sr[i+j].index]\n",
    "            fig.add_trace(go.Bar(x=x, y=sr[i+j].values), row=i+1, col=j+1)\n",
    "    fig.update_layout(showlegend=False, title_text=title_text)\n",
    "    if(interactive):\n",
    "        fig.show()\n",
    "    else:\n",
    "        return Image(pio.to_image(fig, format='png', width=1200))"
   ]
  },
  {
   "cell_type": "code",
   "execution_count": 189,
   "id": "d930b724",
   "metadata": {},
   "outputs": [],
   "source": [
    "import numpy as np\n",
    "import matplotlib.pyplot as plt\n",
    "import scipy.stats as stats\n",
    "from scipy import mean"
   ]
  },
  {
   "cell_type": "code",
   "execution_count": 190,
   "id": "b9cdfdc2",
   "metadata": {},
   "outputs": [],
   "source": [
    "yes = 10\n",
    "production = np.random.normal(loc=20,scale=5,size=yes)"
   ]
  },
  {
   "cell_type": "code",
   "execution_count": 191,
   "id": "d1ce0799",
   "metadata": {},
   "outputs": [
    {
     "data": {
      "text/plain": [
       "auction_id     0\n",
       "experiment     0\n",
       "date           0\n",
       "hour           0\n",
       "device_make    0\n",
       "platform_os    0\n",
       "browser        0\n",
       "yes            0\n",
       "no             0\n",
       "dtype: int64"
      ]
     },
     "execution_count": 191,
     "metadata": {},
     "output_type": "execute_result"
    }
   ],
   "source": [
    "Ad.isnull().sum()\n"
   ]
  },
  {
   "cell_type": "code",
   "execution_count": 192,
   "id": "f74bb7c5",
   "metadata": {},
   "outputs": [
    {
     "data": {
      "text/plain": [
       "hour           11.615080\n",
       "platform_os     5.947134\n",
       "yes             0.070818\n",
       "no              0.083075\n",
       "dtype: float64"
      ]
     },
     "execution_count": 192,
     "metadata": {},
     "output_type": "execute_result"
    }
   ],
   "source": [
    "Ad_mean = Ad.mean()\n",
    "Ad_mean"
   ]
  },
  {
   "cell_type": "code",
   "execution_count": 193,
   "id": "1b947ef9",
   "metadata": {},
   "outputs": [
    {
     "data": {
      "text/plain": [
       "hour           32.888841\n",
       "platform_os     0.050325\n",
       "yes             0.065811\n",
       "no              0.076183\n",
       "dtype: float64"
      ]
     },
     "execution_count": 193,
     "metadata": {},
     "output_type": "execute_result"
    }
   ],
   "source": [
    "Ad_var = Ad.var()\n",
    "Ad_var"
   ]
  },
  {
   "cell_type": "code",
   "execution_count": 194,
   "id": "6aa18141",
   "metadata": {},
   "outputs": [],
   "source": [
    "alpha_mom = Ad_mean ** 2 / Ad_var\n",
    "beta_mom = Ad_var / Ad_mean"
   ]
  },
  {
   "cell_type": "code",
   "execution_count": 195,
   "id": "bd992edc",
   "metadata": {},
   "outputs": [
    {
     "data": {
      "text/plain": [
       "(hour             4.102002\n",
       " platform_os    702.797314\n",
       " yes              0.076206\n",
       " no               0.090591\n",
       " dtype: float64,\n",
       " hour           2.831564\n",
       " platform_os    0.008462\n",
       " yes            0.929297\n",
       " no             0.917038\n",
       " dtype: float64)"
      ]
     },
     "execution_count": 195,
     "metadata": {},
     "output_type": "execute_result"
    }
   ],
   "source": [
    "alpha_mom, beta_mom"
   ]
  },
  {
   "cell_type": "code",
   "execution_count": null,
   "id": "6516a936",
   "metadata": {},
   "outputs": [],
   "source": []
  },
  {
   "cell_type": "code",
   "execution_count": 208,
   "id": "ad4ddbbe",
   "metadata": {},
   "outputs": [],
   "source": [
    "def users_guess(n,verbose=True):\n",
    "    score=[]\n",
    "    for _ in range(n):\n",
    "        users_answers = []\n",
    "        for _ in range(16):\n",
    "            users_answers.append(np.random.choice(yes))\n",
    "        if verbose:\n",
    "            print(\"My name is Bond...James Bond, and I say the glasses are as follows:\",users_answers)\n",
    "        correct_guess = np.sum(np.array(users_answers)==np.array(glasses))\n",
    "        if verbose:\n",
    "            print(\"\\nMr. James Bond gave {} correct answers\".format(correct_guess))\n",
    "            print(\"-\"*100)\n",
    "        score.append(correct_guess)\n",
    "    return np.array(score)"
   ]
  },
  {
   "cell_type": "code",
   "execution_count": null,
   "id": "cf5d21bf",
   "metadata": {},
   "outputs": [],
   "source": []
  },
  {
   "cell_type": "code",
   "execution_count": 210,
   "id": "612d25e0",
   "metadata": {},
   "outputs": [
    {
     "name": "stdout",
     "output_type": "stream",
     "text": [
      "0.0\n"
     ]
    }
   ],
   "source": [
    "score = users_guess(5000,verbose=False)\n",
    "print(np.sum(score>=13)/10000)"
   ]
  },
  {
   "cell_type": "code",
   "execution_count": 212,
   "id": "9d4df623",
   "metadata": {},
   "outputs": [
    {
     "name": "stdout",
     "output_type": "stream",
     "text": [
      "Probability of answering 0 correct: 0.1\n",
      "Probability of answering 1 correct: 0.0\n",
      "Probability of answering 2 correct: 0.0\n",
      "Probability of answering 3 correct: 0.0\n",
      "Probability of answering 4 correct: 0.0\n",
      "Probability of answering 5 correct: 0.0\n",
      "Probability of answering 6 correct: 0.0\n",
      "Probability of answering 7 correct: 0.0\n",
      "Probability of answering 8 correct: 0.0\n",
      "Probability of answering 9 correct: 0.0\n"
     ]
    }
   ],
   "source": [
    "score = users_guess(1000,verbose=False)\n",
    "prob = []\n",
    "guess = []\n",
    "for i in range(10):\n",
    "    print(f\"Probability of answering {i} correct: {np.sum(score==i)/10000}\")\n",
    "    prob.append(np.sum(score==i)/10000)\n",
    "    guess.append(i)"
   ]
  },
  {
   "cell_type": "code",
   "execution_count": 213,
   "id": "690ee74a",
   "metadata": {},
   "outputs": [
    {
     "data": {
      "image/png": "[encoded data removed]",
      "text/plain": [
       "<Figure size 648x360 with 1 Axes>"
      ]
     },
     "metadata": {
      "needs_background": "light"
     },
     "output_type": "display_data"
    }
   ],
   "source": [
    "plt.figure(figsize=(9,5))\n",
    "plt.plot(guess,prob,c='k',lw=3)\n",
    "plt.xlabel(\"Number of exactly these many correct guesses\",fontsize=14)\n",
    "plt.ylabel(\"Probability\",fontsize=14)\n",
    "plt.xticks(guess,fontsize=14)\n",
    "plt.yticks(fontsize=14)\n",
    "plt.hlines(y=0.05,xmin=0,xmax=16,color='blue',linestyle='--')\n",
    "plt.text(s=\"p-value 0.05\",x=6,y=0.07,fontsize=16,color='red')\n",
    "plt.grid(True)\n",
    "plt.show()"
   ]
  },
  {
   "cell_type": "code",
   "execution_count": 217,
   "id": "7bd18e7d",
   "metadata": {
    "scrolled": true
   },
   "outputs": [
    {
     "name": "stdout",
     "output_type": "stream",
     "text": [
      "Probability of answering at least 1 correct: 0.0\n",
      "Probability of answering at least 2 correct: 0.0\n",
      "Probability of answering at least 3 correct: 0.0\n",
      "Probability of answering at least 4 correct: 0.0\n",
      "Probability of answering at least 5 correct: 0.0\n",
      "Probability of answering at least 6 correct: 0.0\n",
      "Probability of answering at least 7 correct: 0.0\n",
      "Probability of answering at least 8 correct: 0.0\n",
      "Probability of answering at least 9 correct: 0.0\n"
     ]
    }
   ],
   "source": [
    "score = users_guess(10000,verbose=False)\n",
    "prob = []\n",
    "guess = []\n",
    "for i in range(1,10):\n",
    "    print(f\"Probability of answering at least {i} correct: {np.sum(score>=i)/10000}\")\n",
    "    prob.append(np.sum(score>=i)/10000)\n",
    "    guess.append(i)"
   ]
  },
  {
   "cell_type": "code",
   "execution_count": null,
   "id": "ced289d8",
   "metadata": {},
   "outputs": [],
   "source": [
    "Data\n",
    "8077 users are partipcapated in the experiment control    4071 ,exposed    4006 \n",
    "Function used in the code\n",
    "Numpy Binomial distribution because this is a matter of YES/NO answers (from the parents)\n",
    "\n",
    "Scipy independent t-test because we are interested in a two-sided test of equal/unequal means"
   ]
  },
  {
   "cell_type": "code",
   "execution_count": 220,
   "id": "f83b00ce",
   "metadata": {},
   "outputs": [],
   "source": [
    "n1 = 8077\n",
    "p1 = 0.090602214\n",
    "\n",
    "n2 = 8077\n",
    "p2 = 0.076215856\n",
    "\n",
    "population1 = np.random.binomial(1, p1, n1)\n",
    "population2 = np.random.binomial(1, p2, n2)"
   ]
  },
  {
   "cell_type": "code",
   "execution_count": 221,
   "id": "4a9d2bce",
   "metadata": {},
   "outputs": [
    {
     "name": "stdout",
     "output_type": "stream",
     "text": [
      "users of who provide\n",
      "-------------------------------------------------------\n",
      "708 users answered YES and 7369 users answered NO\n",
      "\n",
      "users  of who ansers no\n",
      "-------------------------------------------------------\n",
      "624 users answered YES and 7453 users answered NO\n"
     ]
    }
   ],
   "source": [
    "print(\"users of who provide\")\n",
    "print(\"-\"*55)\n",
    "print(f\"{population1.sum()} users answered YES and {n1-population1.sum()} users answered NO\")\n",
    "print(\"\\nusers  of who ansers no\")\n",
    "print(\"-\"*55)\n",
    "print(f\"{population2.sum()} users answered YES and {n2-population2.sum()} users answered NO\")\n"
   ]
  },
  {
   "cell_type": "code",
   "execution_count": 225,
   "id": "5cd9e676",
   "metadata": {},
   "outputs": [],
   "source": [
    "t_stat,pval=scipy.stats.ttest_ind(population1, population2)"
   ]
  },
  {
   "cell_type": "code",
   "execution_count": 226,
   "id": "c6847ce0",
   "metadata": {},
   "outputs": [
    {
     "name": "stdout",
     "output_type": "stream",
     "text": [
      "The t-statistic from this data: 2.4030596055573255\n",
      "Corresponding p-value from this data: 0.016269741816508518\n"
     ]
    }
   ],
   "source": [
    "print(\"The t-statistic from this data:\",t_stat)\n",
    "print(\"Corresponding p-value from this data:\",pval)"
   ]
  },
  {
   "cell_type": "raw",
   "id": "bfa736af",
   "metadata": {},
   "source": [
    "as shown form the data the t-statistic from this data: 2.4030596055573255 Corresponding p-value:0.016269741816508518 the \n",
    "        result show that a good result"
   ]
  },
  {
   "cell_type": "code",
   "execution_count": 236,
   "id": "98ad159b",
   "metadata": {},
   "outputs": [],
   "source": [
    "def users1_guess(n,verbose=True):\n",
    "    score=[]\n",
    "    for _ in range(n):\n",
    "        users_answers = []\n",
    "        for _ in range(16):\n",
    "            users1_answers.append(np.random.choice(no))\n",
    "        if verbose:\n",
    "            print(\"users answer for the questions:\",users1_answers)\n",
    "        correct_guess = np.sum(np.array(users1_answers)==np.array(glasses))\n",
    "        if verbose:\n",
    "            print(\"\\nusers answers {} correct answers\".format(correct_guess))\n",
    "            print(\"-\"*100)\n",
    "        score.append(correct_guess)\n",
    "    return np.array(score)"
   ]
  },
  {
   "cell_type": "code",
   "execution_count": null,
   "id": "0f8b0793",
   "metadata": {},
   "outputs": [],
   "source": []
  },
  {
   "cell_type": "code",
   "execution_count": null,
   "id": "c3b198a8",
   "metadata": {},
   "outputs": [],
   "source": []
  },
  {
   "cell_type": "code",
   "execution_count": null,
   "id": "f80fad7f",
   "metadata": {},
   "outputs": [],
   "source": []
  },
  {
   "cell_type": "code",
   "execution_count": null,
   "id": "bde474e1",
   "metadata": {},
   "outputs": [],
   "source": []
  },
  {
   "cell_type": "code",
   "execution_count": null,
   "id": "fba73cc7",
   "metadata": {},
   "outputs": [],
   "source": []
  },
  {
   "cell_type": "code",
   "execution_count": null,
   "id": "f7511a91",
   "metadata": {},
   "outputs": [],
   "source": []
  }
 ],
 "metadata": {
  "kernelspec": {
   "display_name": "Python 3 (ipykernel)",
   "language": "python",
   "name": "python3"
  },
  "language_info": {
   "codemirror_mode": {
    "name": "ipython",
    "version": 3
   },
   "file_extension": ".py",
   "mimetype": "text/x-python",
   "name": "python",
   "nbconvert_exporter": "python",
   "pygments_lexer": "ipython3",
   "version": "3.9.12"
  }
 },
 "nbformat": 4,
 "nbformat_minor": 5
}
